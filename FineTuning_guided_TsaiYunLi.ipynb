{
  "cells": [
    {
      "cell_type": "markdown",
      "metadata": {
        "id": "zGCJYkQj_Uu2"
      },
      "source": [
        "<h2 align=center> Fine-Tune BERT for Text Classification with TensorFlow</h2>"
      ]
    },
    {
      "cell_type": "markdown",
      "metadata": {
        "id": "4y2m1S6e12il"
      },
      "source": [
        "<div align=\"center\">\n",
        "    <img width=\"512px\" src='https://drive.google.com/uc?id=1fnJTeJs5HUpz7nix-F9E6EZdgUflqyEu' />\n",
        "    <p style=\"text-align: center;color:gray\">Figure 1: BERT Classification Model</p>\n",
        "</div>"
      ]
    },
    {
      "cell_type": "markdown",
      "metadata": {
        "id": "eYYYWqWr_WCC"
      },
      "source": [
        "[Lecturer]\n",
        "In this project, you will learn how to fine-tune a BERT model for text classification using TensorFlow and TF-Hub."
      ]
    },
    {
      "cell_type": "markdown",
      "metadata": {
        "id": "5yQG5PCO_WFx"
      },
      "source": [
        "The pretrained BERT model used in this project is [available](https://tfhub.dev/tensorflow/bert_en_uncased_L-12_H-768_A-12/2) on [TensorFlow Hub](https://tfhub.dev/)."
      ]
    },
    {
      "cell_type": "markdown",
      "metadata": {
        "id": "7pKNS21u_WJo"
      },
      "source": [
        "### Learning Objectives [Lecturer]"
      ]
    },
    {
      "cell_type": "markdown",
      "metadata": {
        "id": "_3NHSMXv_WMv"
      },
      "source": [
        "By the time you complete this project, you will be able to:\n",
        "\n",
        "- Build TensorFlow Input Pipelines for Text Data with the [`tf.data`](https://www.tensorflow.org/api_docs/python/tf/data) API\n",
        "- Tokenize and Preprocess Text for BERT\n",
        "- Fine-tune BERT for text classification with TensorFlow 2 and [TF Hub](https://tfhub.dev)"
      ]
    },
    {
      "cell_type": "markdown",
      "metadata": {
        "id": "o6BEe-3-AVRQ"
      },
      "source": [
        "### Prerequisites [Lecturer]"
      ]
    },
    {
      "cell_type": "markdown",
      "metadata": {
        "id": "Sc9f-8rLAVUS"
      },
      "source": [
        "In order to be successful with this project, it is assumed you are:\n",
        "\n",
        "- Competent in the Python programming language\n",
        "- Familiar with deep learning for Natural Language Processing (NLP)\n",
        "- Familiar with TensorFlow, and its Keras API"
      ]
    },
    {
      "cell_type": "markdown",
      "metadata": {
        "id": "MYXXV5n3Ab-4"
      },
      "source": [
        "### Contents [Lecturer]"
      ]
    },
    {
      "cell_type": "markdown",
      "metadata": {
        "id": "XhK-SYGyAjxe"
      },
      "source": [
        "This project/notebook consists of several Tasks.\n",
        "\n",
        "- **[Task 1]()**: Introduction to the Project.\n",
        "- **[Task 2]()**: Setup your TensorFlow and Colab Runtime\n",
        "- **[Task 3]()**: Download and Import the Quora Insincere Questions Dataset\n",
        "- **[Task 4]()**: Create tf.data.Datasets for Training and Evaluation\n",
        "- **[Task 5]()**: Download a Pre-trained BERT Model from TensorFlow Hub\n",
        "- **[Task 6]()**: Tokenize and Preprocess Text for BERT\n",
        "- **[Task 7]()**: Wrap a Python Function into a TensorFlow op for Eager Execution\n",
        "- **[Task 8]()**: Create a TensorFlow Input Pipeline with `tf.data`\n",
        "- **[Task 9]()**: Add a Classification Head to the BERT `hub.KerasLayer`\n",
        "- **[Task 10]()**: Fine-Tune BERT for Text Classification\n",
        "- **[Task 11]()**: Evaluate the BERT Text Classification Model"
      ]
    },
    {
      "cell_type": "markdown",
      "metadata": {
        "id": "IaArqXjRAcBa"
      },
      "source": [
        "## Task 2: Setup your TensorFlow and Colab Runtime."
      ]
    },
    {
      "cell_type": "markdown",
      "metadata": {
        "id": "GDDhjzZ5A4Q_"
      },
      "source": [
        "You will only be able to use the Colab Notebook after you save it to your Google Drive folder. Click on the File menu and select “Save a copy in Drive…\n",
        "\n",
        "![Copy to Drive](https://drive.google.com/uc?id=1CH3eDmuJL8WR0AP1r3UE6sOPuqq8_Wl7)\n"
      ]
    },
    {
      "cell_type": "markdown",
      "metadata": {
        "id": "mpe6GhLuBJWB"
      },
      "source": [
        "### Check GPU Availability\n",
        "\n",
        "Check if your Colab notebook is configured to use Graphical Processing Units (GPUs). If zero GPUs are available, check if the Colab notebook is configured to use GPUs (Menu > Runtime > Change Runtime Type).\n",
        "\n",
        "![Hardware Accelerator Settings](https://drive.google.com/uc?id=1qrihuuMtvzXJHiRV8M7RngbxFYipXKQx)\n"
      ]
    },
    {
      "cell_type": "code",
      "execution_count": 1,
      "metadata": {
        "id": "8V9c8vzSL3aj",
        "colab": {
          "base_uri": "https://localhost:8080/"
        },
        "outputId": "5c9571f2-090d-4134-9709-b381df77c0cb"
      },
      "outputs": [
        {
          "output_type": "stream",
          "name": "stdout",
          "text": [
            "Thu Jul 11 06:35:59 2024       \n",
            "+---------------------------------------------------------------------------------------+\n",
            "| NVIDIA-SMI 535.104.05             Driver Version: 535.104.05   CUDA Version: 12.2     |\n",
            "|-----------------------------------------+----------------------+----------------------+\n",
            "| GPU  Name                 Persistence-M | Bus-Id        Disp.A | Volatile Uncorr. ECC |\n",
            "| Fan  Temp   Perf          Pwr:Usage/Cap |         Memory-Usage | GPU-Util  Compute M. |\n",
            "|                                         |                      |               MIG M. |\n",
            "|=========================================+======================+======================|\n",
            "|   0  Tesla T4                       Off | 00000000:00:04.0 Off |                    0 |\n",
            "| N/A   47C    P8               9W /  70W |      0MiB / 15360MiB |      0%      Default |\n",
            "|                                         |                      |                  N/A |\n",
            "+-----------------------------------------+----------------------+----------------------+\n",
            "                                                                                         \n",
            "+---------------------------------------------------------------------------------------+\n",
            "| Processes:                                                                            |\n",
            "|  GPU   GI   CI        PID   Type   Process name                            GPU Memory |\n",
            "|        ID   ID                                                             Usage      |\n",
            "|=======================================================================================|\n",
            "|  No running processes found                                                           |\n",
            "+---------------------------------------------------------------------------------------+\n"
          ]
        }
      ],
      "source": [
        "!nvidia-smi"
      ]
    },
    {
      "cell_type": "markdown",
      "metadata": {
        "id": "Obch3rAuBVf0"
      },
      "source": [
        "### Install TensorFlow and TensorFlow Model Garden"
      ]
    },
    {
      "cell_type": "code",
      "execution_count": 2,
      "metadata": {
        "colab": {
          "base_uri": "https://localhost:8080/"
        },
        "id": "bUQEY3dFB0jX",
        "outputId": "a66b4905-2525-427d-ee47-01f6e15dc9b3"
      },
      "outputs": [
        {
          "output_type": "stream",
          "name": "stdout",
          "text": [
            "2.15.0\n"
          ]
        }
      ],
      "source": [
        "import tensorflow as tf\n",
        "print(tf.version.VERSION)"
      ]
    },
    {
      "cell_type": "code",
      "execution_count": 3,
      "metadata": {
        "id": "aU3YLZ1TYKUt",
        "colab": {
          "base_uri": "https://localhost:8080/"
        },
        "outputId": "3d3e0644-ce41-4aab-be25-96907965fd51"
      },
      "outputs": [
        {
          "output_type": "stream",
          "name": "stdout",
          "text": [
            "\u001b[31mERROR: Could not find a version that satisfies the requirement tensorflow==2.3.0 (from versions: 2.8.0rc0, 2.8.0rc1, 2.8.0, 2.8.1, 2.8.2, 2.8.3, 2.8.4, 2.9.0rc0, 2.9.0rc1, 2.9.0rc2, 2.9.0, 2.9.1, 2.9.2, 2.9.3, 2.10.0rc0, 2.10.0rc1, 2.10.0rc2, 2.10.0rc3, 2.10.0, 2.10.1, 2.11.0rc0, 2.11.0rc1, 2.11.0rc2, 2.11.0, 2.11.1, 2.12.0rc0, 2.12.0rc1, 2.12.0, 2.12.1, 2.13.0rc0, 2.13.0rc1, 2.13.0rc2, 2.13.0, 2.13.1, 2.14.0rc0, 2.14.0rc1, 2.14.0, 2.14.1, 2.15.0rc0, 2.15.0rc1, 2.15.0, 2.15.0.post1, 2.15.1, 2.16.0rc0, 2.16.1, 2.16.2, 2.17.0rc0, 2.17.0rc1)\u001b[0m\u001b[31m\n",
            "\u001b[0m\u001b[31mERROR: No matching distribution found for tensorflow==2.3.0\u001b[0m\u001b[31m\n",
            "\u001b[0m"
          ]
        }
      ],
      "source": [
        "!pip install -q tensorflow==2.3.0"
      ]
    },
    {
      "cell_type": "code",
      "execution_count": 4,
      "metadata": {
        "id": "AFRTC-zwUy6D",
        "colab": {
          "base_uri": "https://localhost:8080/"
        },
        "outputId": "2e154885-2da5-480e-e2d4-ae5d80023f9e"
      },
      "outputs": [
        {
          "output_type": "stream",
          "name": "stdout",
          "text": [
            "fatal: destination path 'models' already exists and is not an empty directory.\n"
          ]
        }
      ],
      "source": [
        "!git clone --depth 1 -b v2.3.0 https://github.com/tensorflow/models.git\n",
        "#--depth 1: This option tells git to perform a shallow clone, which means it only retrieves the latest snapshot of the specified branch, rather than the entire history of the repository.\n",
        "# This makes the cloning process faster and requires less storage space."
      ]
    },
    {
      "cell_type": "code",
      "execution_count": 5,
      "metadata": {
        "id": "3H2G0571zLLs",
        "colab": {
          "base_uri": "https://localhost:8080/"
        },
        "outputId": "4b9e925f-bea5-4739-f27d-2835ae8fe6d5"
      },
      "outputs": [
        {
          "output_type": "stream",
          "name": "stdout",
          "text": [
            "  Preparing metadata (setup.py) ... \u001b[?25l\u001b[?25hdone\n"
          ]
        }
      ],
      "source": [
        "# install requirements to use tensorflow/models repository\n",
        "!pip install -Uqr models/official/requirements.txt\n",
        "# you may have to restart the runtime afterwards"
      ]
    },
    {
      "cell_type": "markdown",
      "metadata": {
        "id": "GVjksk4yCXur"
      },
      "source": [
        "## Restart the Runtime\n",
        "\n",
        "**Note**\n",
        "After installing the required Python packages, you'll need to restart the Colab Runtime Engine (Menu > Runtime > Restart runtime...)\n",
        "\n",
        "![Restart of the Colab Runtime Engine](https://drive.google.com/uc?id=1xnjAy2sxIymKhydkqb0RKzgVK9rh3teH)"
      ]
    },
    {
      "cell_type": "markdown",
      "metadata": {
        "id": "TFNkIQvOYcFU"
      },
      "source": [
        "##### Benefits of Restarting the Runtime (generated by ChatGPT4o)\n",
        "1. Avoid Conflicts:\n",
        "\n",
        "New package installations may have dependencies or versions that conflict with currently loaded packages. Restarting the runtime clears all existing states, avoiding such conflicts.\n",
        "\n",
        "2. Ensure Proper Installation:\n",
        "\n",
        "Some packages might need a fresh environment to load properly after installation. Restarting ensures that all packages are loaded from scratch with their correct dependencies.\n",
        "\n",
        "3. Clear Memory:\n",
        "\n",
        "Restarting clears the memory, removing any residual data or states from previous operations, leading to a clean slate.\n",
        "\n",
        "4. Stability:\n",
        "\n",
        "Ensures that the runtime is stable by removing any potential issues caused by changes in the environment or residual states."
      ]
    },
    {
      "cell_type": "markdown",
      "metadata": {
        "id": "DN6c6EobYcFV"
      },
      "source": [
        "##### Why Packages Remain Available After Restarting (generated by ChatGPT4o)\n",
        "When you install a package in a Jupyter notebook or any interactive environment:\n",
        "\n",
        "1. Installation on the System Level:\n",
        "\n",
        "The installation step (pip install) places the packages in the system or virtual environment's package directory. Restarting the runtime does not remove these installed packages; it only restarts the interpreter.\n",
        "\n",
        "2. Persistence Across Sessions:\n",
        "\n",
        "Installed packages are available for any session or code cell run after the restart because the installation is not tied to the runtime state but to the environment.\n",
        "\n",
        "3. Environment Management:\n",
        "\n",
        "Modern environments and tools like Jupyter notebooks ensure that once a package is installed, it is available for future use without needing reinstallation, provided you are still within the same virtual environment."
      ]
    },
    {
      "cell_type": "markdown",
      "metadata": {
        "id": "IMsEoT3Fg4Wg"
      },
      "source": [
        "## Task 3: Download and Import the Quora Insincere Questions Dataset"
      ]
    },
    {
      "cell_type": "code",
      "execution_count": 1,
      "metadata": {
        "id": "GmqEylyFYTdP",
        "colab": {
          "base_uri": "https://localhost:8080/"
        },
        "outputId": "f6d9103a-bac3-447b-a82b-dd7a553d05c0"
      },
      "outputs": [
        {
          "output_type": "stream",
          "name": "stderr",
          "text": [
            "/usr/local/lib/python3.10/dist-packages/tensorflow_addons/utils/tfa_eol_msg.py:23: UserWarning: \n",
            "\n",
            "TensorFlow Addons (TFA) has ended development and introduction of new features.\n",
            "TFA has entered a minimal maintenance and release mode until a planned end of life in May 2024.\n",
            "Please modify downstream libraries to take dependencies from other repositories in our TensorFlow community (e.g. Keras, Keras-CV, and Keras-NLP). \n",
            "\n",
            "For more information see: https://github.com/tensorflow/addons/issues/2807 \n",
            "\n",
            "  warnings.warn(\n"
          ]
        }
      ],
      "source": [
        "import numpy as np\n",
        "import tensorflow as tf\n",
        "import tensorflow_hub as hub\n",
        "import sys\n",
        "sys.path.append('models')\n",
        "from official.nlp.data import classifier_data_lib\n",
        "from official.nlp.bert import tokenization\n",
        "from official.nlp import optimization"
      ]
    },
    {
      "cell_type": "code",
      "execution_count": 2,
      "metadata": {
        "colab": {
          "base_uri": "https://localhost:8080/"
        },
        "id": "ZuX1lB8pPJ-W",
        "outputId": "fda67f02-04b0-457b-d41e-129e88707aa3"
      },
      "outputs": [
        {
          "output_type": "stream",
          "name": "stdout",
          "text": [
            "TF Version:  2.15.0\n",
            "Eager mode:  True\n",
            "Hub version:  0.16.1\n",
            "GPU is available\n"
          ]
        }
      ],
      "source": [
        "print(\"TF Version: \", tf.__version__)\n",
        "print(\"Eager mode: \", tf.executing_eagerly())\n",
        "print(\"Hub version: \", hub.__version__)\n",
        "print(\"GPU is\", \"available\" if tf.config.experimental.list_physical_devices(\"GPU\") else \"NOT AVAILABLE\")"
      ]
    },
    {
      "cell_type": "markdown",
      "metadata": {
        "id": "IrZ3SKYsYcFW"
      },
      "source": [
        "##### Eager Mode in TensorFlow (generated by ChatGPT4o)\n",
        "Eager Execution is an imperative programming environment that evaluates operations immediately, without building graphs. It is a mode in TensorFlow that allows for more intuitive and flexible coding. Here are the key aspects of eager mode:\n",
        "\n",
        "1. Immediate Execution:\n",
        "\n",
        "Operations are executed as they are called from Python, which makes debugging and experimentation more straightforward.\n",
        "\n",
        "2. No Graphs:\n",
        "\n",
        "In eager mode, TensorFlow does not build computational graphs. Instead, it evaluates operations immediately, which means you can use Python control flow (e.g., loops, conditionals) naturally.\n",
        "\n",
        "3. Interactive Development:\n",
        "\n",
        "Eager execution is particularly useful during development and debugging. It provides immediate feedback, which is helpful for interactive use cases and quick iterations."
      ]
    },
    {
      "cell_type": "markdown",
      "metadata": {
        "id": "QtbwpWgyEZg7"
      },
      "source": [
        "A downloadable copy of the [Quora Insincere Questions Classification data](https://www.kaggle.com/c/quora-insincere-questions-classification/data) can be found [https://archive.org/download/fine-tune-bert-tensorflow-train.csv/train.csv.zip](https://archive.org/download/fine-tune-bert-tensorflow-train.csv/train.csv.zip). Decompress and read the data into a pandas DataFrame."
      ]
    },
    {
      "cell_type": "code",
      "execution_count": 3,
      "metadata": {
        "colab": {
          "base_uri": "https://localhost:8080/"
        },
        "id": "0nI-9itVwCCQ",
        "outputId": "5062b7ef-43d2-4bb6-b64f-3378c012f06d"
      },
      "outputs": [
        {
          "output_type": "execute_result",
          "data": {
            "text/plain": [
              "(1306122, 3)"
            ]
          },
          "metadata": {},
          "execution_count": 3
        }
      ],
      "source": [
        "import numpy as np\n",
        "import pandas as pd\n",
        "from sklearn.model_selection import train_test_split\n",
        "\n",
        "df = pd.read_csv('https://archive.org/download/fine-tune-bert-tensorflow-train.csv/train.csv.zip',\n",
        "                 compression='zip', low_memory=False)\n",
        "df.shape"
      ]
    },
    {
      "cell_type": "code",
      "execution_count": 4,
      "metadata": {
        "colab": {
          "base_uri": "https://localhost:8080/",
          "height": 676
        },
        "id": "yeHE98KiMvDd",
        "outputId": "c9300044-8477-4f70-c5f5-6b3e4d55e12d"
      },
      "outputs": [
        {
          "output_type": "execute_result",
          "data": {
            "text/plain": [
              "                          qid  \\\n",
              "1306102  ffff3778790af9baae76   \n",
              "1306103  ffff3f0a2449ffe4b9ff   \n",
              "1306104  ffff41393389d4206066   \n",
              "1306105  ffff42493fc203cd9532   \n",
              "1306106  ffff48dd47bee89fff79   \n",
              "1306107  ffff5fd051a032f32a39   \n",
              "1306108  ffff6d528040d3888b93   \n",
              "1306109  ffff8776cd30cdc8d7f8   \n",
              "1306110  ffff94d427ade3716cd1   \n",
              "1306111  ffffa382c58368071dc9   \n",
              "1306112  ffffa5b0fa76431c063f   \n",
              "1306113  ffffae5dbda3dc9e9771   \n",
              "1306114  ffffba7c4888798571c1   \n",
              "1306115  ffffc0c7158658a06fd9   \n",
              "1306116  ffffc404da586ac5a08f   \n",
              "1306117  ffffcc4e2331aaf1e41e   \n",
              "1306118  ffffd431801e5a2f4861   \n",
              "1306119  ffffd48fb36b63db010c   \n",
              "1306120  ffffec519fa37cf60c78   \n",
              "1306121  ffffed09fedb5088744a   \n",
              "\n",
              "                                             question_text  target  \n",
              "1306102  What steps can I take to live a normal life if...       0  \n",
              "1306103  Isn't Trump right after all? Why should the US...       1  \n",
              "1306104  Is 33 too late for a career in creative advert...       0  \n",
              "1306105  What is difference between the filteration wor...       0  \n",
              "1306106  If the universe \"popped\" into existence from n...       0  \n",
              "1306107  How does a shared service technology team meas...       0  \n",
              "1306108                    How is DSATM civil engineering?       0  \n",
              "1306109  Do you know any problem that depends solely on...       0  \n",
              "1306110  What are some comic ideas for you Tube videos ...       0  \n",
              "1306111  If you had $10 million of Bitcoin, could you s...       0  \n",
              "1306112                Are you ashamed of being an Indian?       1  \n",
              "1306113  What are the methods to determine fossil ages ...       0  \n",
              "1306114                          What is your story today?       0  \n",
              "1306115  How do I consume 150 gms protein daily both ve...       0  \n",
              "1306116  What are the good career options for a msc che...       0  \n",
              "1306117  What other technical skills do you need as a c...       0  \n",
              "1306118  Does MS in ECE have good job prospects in USA ...       0  \n",
              "1306119                          Is foam insulation toxic?       0  \n",
              "1306120  How can one start a research project based on ...       0  \n",
              "1306121  Who wins in a battle between a Wolverine and a...       0  "
            ],
            "text/html": [
              "\n",
              "  <div id=\"df-9fd7f034-b8ed-44c6-8a1f-7eb58b69bbfc\" class=\"colab-df-container\">\n",
              "    <div>\n",
              "<style scoped>\n",
              "    .dataframe tbody tr th:only-of-type {\n",
              "        vertical-align: middle;\n",
              "    }\n",
              "\n",
              "    .dataframe tbody tr th {\n",
              "        vertical-align: top;\n",
              "    }\n",
              "\n",
              "    .dataframe thead th {\n",
              "        text-align: right;\n",
              "    }\n",
              "</style>\n",
              "<table border=\"1\" class=\"dataframe\">\n",
              "  <thead>\n",
              "    <tr style=\"text-align: right;\">\n",
              "      <th></th>\n",
              "      <th>qid</th>\n",
              "      <th>question_text</th>\n",
              "      <th>target</th>\n",
              "    </tr>\n",
              "  </thead>\n",
              "  <tbody>\n",
              "    <tr>\n",
              "      <th>1306102</th>\n",
              "      <td>ffff3778790af9baae76</td>\n",
              "      <td>What steps can I take to live a normal life if...</td>\n",
              "      <td>0</td>\n",
              "    </tr>\n",
              "    <tr>\n",
              "      <th>1306103</th>\n",
              "      <td>ffff3f0a2449ffe4b9ff</td>\n",
              "      <td>Isn't Trump right after all? Why should the US...</td>\n",
              "      <td>1</td>\n",
              "    </tr>\n",
              "    <tr>\n",
              "      <th>1306104</th>\n",
              "      <td>ffff41393389d4206066</td>\n",
              "      <td>Is 33 too late for a career in creative advert...</td>\n",
              "      <td>0</td>\n",
              "    </tr>\n",
              "    <tr>\n",
              "      <th>1306105</th>\n",
              "      <td>ffff42493fc203cd9532</td>\n",
              "      <td>What is difference between the filteration wor...</td>\n",
              "      <td>0</td>\n",
              "    </tr>\n",
              "    <tr>\n",
              "      <th>1306106</th>\n",
              "      <td>ffff48dd47bee89fff79</td>\n",
              "      <td>If the universe \"popped\" into existence from n...</td>\n",
              "      <td>0</td>\n",
              "    </tr>\n",
              "    <tr>\n",
              "      <th>1306107</th>\n",
              "      <td>ffff5fd051a032f32a39</td>\n",
              "      <td>How does a shared service technology team meas...</td>\n",
              "      <td>0</td>\n",
              "    </tr>\n",
              "    <tr>\n",
              "      <th>1306108</th>\n",
              "      <td>ffff6d528040d3888b93</td>\n",
              "      <td>How is DSATM civil engineering?</td>\n",
              "      <td>0</td>\n",
              "    </tr>\n",
              "    <tr>\n",
              "      <th>1306109</th>\n",
              "      <td>ffff8776cd30cdc8d7f8</td>\n",
              "      <td>Do you know any problem that depends solely on...</td>\n",
              "      <td>0</td>\n",
              "    </tr>\n",
              "    <tr>\n",
              "      <th>1306110</th>\n",
              "      <td>ffff94d427ade3716cd1</td>\n",
              "      <td>What are some comic ideas for you Tube videos ...</td>\n",
              "      <td>0</td>\n",
              "    </tr>\n",
              "    <tr>\n",
              "      <th>1306111</th>\n",
              "      <td>ffffa382c58368071dc9</td>\n",
              "      <td>If you had $10 million of Bitcoin, could you s...</td>\n",
              "      <td>0</td>\n",
              "    </tr>\n",
              "    <tr>\n",
              "      <th>1306112</th>\n",
              "      <td>ffffa5b0fa76431c063f</td>\n",
              "      <td>Are you ashamed of being an Indian?</td>\n",
              "      <td>1</td>\n",
              "    </tr>\n",
              "    <tr>\n",
              "      <th>1306113</th>\n",
              "      <td>ffffae5dbda3dc9e9771</td>\n",
              "      <td>What are the methods to determine fossil ages ...</td>\n",
              "      <td>0</td>\n",
              "    </tr>\n",
              "    <tr>\n",
              "      <th>1306114</th>\n",
              "      <td>ffffba7c4888798571c1</td>\n",
              "      <td>What is your story today?</td>\n",
              "      <td>0</td>\n",
              "    </tr>\n",
              "    <tr>\n",
              "      <th>1306115</th>\n",
              "      <td>ffffc0c7158658a06fd9</td>\n",
              "      <td>How do I consume 150 gms protein daily both ve...</td>\n",
              "      <td>0</td>\n",
              "    </tr>\n",
              "    <tr>\n",
              "      <th>1306116</th>\n",
              "      <td>ffffc404da586ac5a08f</td>\n",
              "      <td>What are the good career options for a msc che...</td>\n",
              "      <td>0</td>\n",
              "    </tr>\n",
              "    <tr>\n",
              "      <th>1306117</th>\n",
              "      <td>ffffcc4e2331aaf1e41e</td>\n",
              "      <td>What other technical skills do you need as a c...</td>\n",
              "      <td>0</td>\n",
              "    </tr>\n",
              "    <tr>\n",
              "      <th>1306118</th>\n",
              "      <td>ffffd431801e5a2f4861</td>\n",
              "      <td>Does MS in ECE have good job prospects in USA ...</td>\n",
              "      <td>0</td>\n",
              "    </tr>\n",
              "    <tr>\n",
              "      <th>1306119</th>\n",
              "      <td>ffffd48fb36b63db010c</td>\n",
              "      <td>Is foam insulation toxic?</td>\n",
              "      <td>0</td>\n",
              "    </tr>\n",
              "    <tr>\n",
              "      <th>1306120</th>\n",
              "      <td>ffffec519fa37cf60c78</td>\n",
              "      <td>How can one start a research project based on ...</td>\n",
              "      <td>0</td>\n",
              "    </tr>\n",
              "    <tr>\n",
              "      <th>1306121</th>\n",
              "      <td>ffffed09fedb5088744a</td>\n",
              "      <td>Who wins in a battle between a Wolverine and a...</td>\n",
              "      <td>0</td>\n",
              "    </tr>\n",
              "  </tbody>\n",
              "</table>\n",
              "</div>\n",
              "    <div class=\"colab-df-buttons\">\n",
              "\n",
              "  <div class=\"colab-df-container\">\n",
              "    <button class=\"colab-df-convert\" onclick=\"convertToInteractive('df-9fd7f034-b8ed-44c6-8a1f-7eb58b69bbfc')\"\n",
              "            title=\"Convert this dataframe to an interactive table.\"\n",
              "            style=\"display:none;\">\n",
              "\n",
              "  <svg xmlns=\"http://www.w3.org/2000/svg\" height=\"24px\" viewBox=\"0 -960 960 960\">\n",
              "    <path d=\"M120-120v-720h720v720H120Zm60-500h600v-160H180v160Zm220 220h160v-160H400v160Zm0 220h160v-160H400v160ZM180-400h160v-160H180v160Zm440 0h160v-160H620v160ZM180-180h160v-160H180v160Zm440 0h160v-160H620v160Z\"/>\n",
              "  </svg>\n",
              "    </button>\n",
              "\n",
              "  <style>\n",
              "    .colab-df-container {\n",
              "      display:flex;\n",
              "      gap: 12px;\n",
              "    }\n",
              "\n",
              "    .colab-df-convert {\n",
              "      background-color: #E8F0FE;\n",
              "      border: none;\n",
              "      border-radius: 50%;\n",
              "      cursor: pointer;\n",
              "      display: none;\n",
              "      fill: #1967D2;\n",
              "      height: 32px;\n",
              "      padding: 0 0 0 0;\n",
              "      width: 32px;\n",
              "    }\n",
              "\n",
              "    .colab-df-convert:hover {\n",
              "      background-color: #E2EBFA;\n",
              "      box-shadow: 0px 1px 2px rgba(60, 64, 67, 0.3), 0px 1px 3px 1px rgba(60, 64, 67, 0.15);\n",
              "      fill: #174EA6;\n",
              "    }\n",
              "\n",
              "    .colab-df-buttons div {\n",
              "      margin-bottom: 4px;\n",
              "    }\n",
              "\n",
              "    [theme=dark] .colab-df-convert {\n",
              "      background-color: #3B4455;\n",
              "      fill: #D2E3FC;\n",
              "    }\n",
              "\n",
              "    [theme=dark] .colab-df-convert:hover {\n",
              "      background-color: #434B5C;\n",
              "      box-shadow: 0px 1px 3px 1px rgba(0, 0, 0, 0.15);\n",
              "      filter: drop-shadow(0px 1px 2px rgba(0, 0, 0, 0.3));\n",
              "      fill: #FFFFFF;\n",
              "    }\n",
              "  </style>\n",
              "\n",
              "    <script>\n",
              "      const buttonEl =\n",
              "        document.querySelector('#df-9fd7f034-b8ed-44c6-8a1f-7eb58b69bbfc button.colab-df-convert');\n",
              "      buttonEl.style.display =\n",
              "        google.colab.kernel.accessAllowed ? 'block' : 'none';\n",
              "\n",
              "      async function convertToInteractive(key) {\n",
              "        const element = document.querySelector('#df-9fd7f034-b8ed-44c6-8a1f-7eb58b69bbfc');\n",
              "        const dataTable =\n",
              "          await google.colab.kernel.invokeFunction('convertToInteractive',\n",
              "                                                    [key], {});\n",
              "        if (!dataTable) return;\n",
              "\n",
              "        const docLinkHtml = 'Like what you see? Visit the ' +\n",
              "          '<a target=\"_blank\" href=https://colab.research.google.com/notebooks/data_table.ipynb>data table notebook</a>'\n",
              "          + ' to learn more about interactive tables.';\n",
              "        element.innerHTML = '';\n",
              "        dataTable['output_type'] = 'display_data';\n",
              "        await google.colab.output.renderOutput(dataTable, element);\n",
              "        const docLink = document.createElement('div');\n",
              "        docLink.innerHTML = docLinkHtml;\n",
              "        element.appendChild(docLink);\n",
              "      }\n",
              "    </script>\n",
              "  </div>\n",
              "\n",
              "\n",
              "<div id=\"df-25d644e8-988f-4372-81c1-0da0484895a5\">\n",
              "  <button class=\"colab-df-quickchart\" onclick=\"quickchart('df-25d644e8-988f-4372-81c1-0da0484895a5')\"\n",
              "            title=\"Suggest charts\"\n",
              "            style=\"display:none;\">\n",
              "\n",
              "<svg xmlns=\"http://www.w3.org/2000/svg\" height=\"24px\"viewBox=\"0 0 24 24\"\n",
              "     width=\"24px\">\n",
              "    <g>\n",
              "        <path d=\"M19 3H5c-1.1 0-2 .9-2 2v14c0 1.1.9 2 2 2h14c1.1 0 2-.9 2-2V5c0-1.1-.9-2-2-2zM9 17H7v-7h2v7zm4 0h-2V7h2v10zm4 0h-2v-4h2v4z\"/>\n",
              "    </g>\n",
              "</svg>\n",
              "  </button>\n",
              "\n",
              "<style>\n",
              "  .colab-df-quickchart {\n",
              "      --bg-color: #E8F0FE;\n",
              "      --fill-color: #1967D2;\n",
              "      --hover-bg-color: #E2EBFA;\n",
              "      --hover-fill-color: #174EA6;\n",
              "      --disabled-fill-color: #AAA;\n",
              "      --disabled-bg-color: #DDD;\n",
              "  }\n",
              "\n",
              "  [theme=dark] .colab-df-quickchart {\n",
              "      --bg-color: #3B4455;\n",
              "      --fill-color: #D2E3FC;\n",
              "      --hover-bg-color: #434B5C;\n",
              "      --hover-fill-color: #FFFFFF;\n",
              "      --disabled-bg-color: #3B4455;\n",
              "      --disabled-fill-color: #666;\n",
              "  }\n",
              "\n",
              "  .colab-df-quickchart {\n",
              "    background-color: var(--bg-color);\n",
              "    border: none;\n",
              "    border-radius: 50%;\n",
              "    cursor: pointer;\n",
              "    display: none;\n",
              "    fill: var(--fill-color);\n",
              "    height: 32px;\n",
              "    padding: 0;\n",
              "    width: 32px;\n",
              "  }\n",
              "\n",
              "  .colab-df-quickchart:hover {\n",
              "    background-color: var(--hover-bg-color);\n",
              "    box-shadow: 0 1px 2px rgba(60, 64, 67, 0.3), 0 1px 3px 1px rgba(60, 64, 67, 0.15);\n",
              "    fill: var(--button-hover-fill-color);\n",
              "  }\n",
              "\n",
              "  .colab-df-quickchart-complete:disabled,\n",
              "  .colab-df-quickchart-complete:disabled:hover {\n",
              "    background-color: var(--disabled-bg-color);\n",
              "    fill: var(--disabled-fill-color);\n",
              "    box-shadow: none;\n",
              "  }\n",
              "\n",
              "  .colab-df-spinner {\n",
              "    border: 2px solid var(--fill-color);\n",
              "    border-color: transparent;\n",
              "    border-bottom-color: var(--fill-color);\n",
              "    animation:\n",
              "      spin 1s steps(1) infinite;\n",
              "  }\n",
              "\n",
              "  @keyframes spin {\n",
              "    0% {\n",
              "      border-color: transparent;\n",
              "      border-bottom-color: var(--fill-color);\n",
              "      border-left-color: var(--fill-color);\n",
              "    }\n",
              "    20% {\n",
              "      border-color: transparent;\n",
              "      border-left-color: var(--fill-color);\n",
              "      border-top-color: var(--fill-color);\n",
              "    }\n",
              "    30% {\n",
              "      border-color: transparent;\n",
              "      border-left-color: var(--fill-color);\n",
              "      border-top-color: var(--fill-color);\n",
              "      border-right-color: var(--fill-color);\n",
              "    }\n",
              "    40% {\n",
              "      border-color: transparent;\n",
              "      border-right-color: var(--fill-color);\n",
              "      border-top-color: var(--fill-color);\n",
              "    }\n",
              "    60% {\n",
              "      border-color: transparent;\n",
              "      border-right-color: var(--fill-color);\n",
              "    }\n",
              "    80% {\n",
              "      border-color: transparent;\n",
              "      border-right-color: var(--fill-color);\n",
              "      border-bottom-color: var(--fill-color);\n",
              "    }\n",
              "    90% {\n",
              "      border-color: transparent;\n",
              "      border-bottom-color: var(--fill-color);\n",
              "    }\n",
              "  }\n",
              "</style>\n",
              "\n",
              "  <script>\n",
              "    async function quickchart(key) {\n",
              "      const quickchartButtonEl =\n",
              "        document.querySelector('#' + key + ' button');\n",
              "      quickchartButtonEl.disabled = true;  // To prevent multiple clicks.\n",
              "      quickchartButtonEl.classList.add('colab-df-spinner');\n",
              "      try {\n",
              "        const charts = await google.colab.kernel.invokeFunction(\n",
              "            'suggestCharts', [key], {});\n",
              "      } catch (error) {\n",
              "        console.error('Error during call to suggestCharts:', error);\n",
              "      }\n",
              "      quickchartButtonEl.classList.remove('colab-df-spinner');\n",
              "      quickchartButtonEl.classList.add('colab-df-quickchart-complete');\n",
              "    }\n",
              "    (() => {\n",
              "      let quickchartButtonEl =\n",
              "        document.querySelector('#df-25d644e8-988f-4372-81c1-0da0484895a5 button');\n",
              "      quickchartButtonEl.style.display =\n",
              "        google.colab.kernel.accessAllowed ? 'block' : 'none';\n",
              "    })();\n",
              "  </script>\n",
              "</div>\n",
              "\n",
              "    </div>\n",
              "  </div>\n"
            ],
            "application/vnd.google.colaboratory.intrinsic+json": {
              "type": "dataframe",
              "summary": "{\n  \"name\": \"df\",\n  \"rows\": 20,\n  \"fields\": [\n    {\n      \"column\": \"qid\",\n      \"properties\": {\n        \"dtype\": \"string\",\n        \"num_unique_values\": 20,\n        \"samples\": [\n          \"ffff3778790af9baae76\",\n          \"ffffd48fb36b63db010c\",\n          \"ffffcc4e2331aaf1e41e\"\n        ],\n        \"semantic_type\": \"\",\n        \"description\": \"\"\n      }\n    },\n    {\n      \"column\": \"question_text\",\n      \"properties\": {\n        \"dtype\": \"string\",\n        \"num_unique_values\": 20,\n        \"samples\": [\n          \"What steps can I take to live a normal life if I suffer from social anxiety? I am unable to obtain a job b/c I shut down during interviews. My mind goes completely blank and I am unable to form complete sentences. I\\u2019ve struggled with this all my life\",\n          \"Is foam insulation toxic?\",\n          \"What other technical skills do you need as a computer science undergrad other than c and c++?\"\n        ],\n        \"semantic_type\": \"\",\n        \"description\": \"\"\n      }\n    },\n    {\n      \"column\": \"target\",\n      \"properties\": {\n        \"dtype\": \"number\",\n        \"std\": 0,\n        \"min\": 0,\n        \"max\": 1,\n        \"num_unique_values\": 2,\n        \"samples\": [\n          1,\n          0\n        ],\n        \"semantic_type\": \"\",\n        \"description\": \"\"\n      }\n    }\n  ]\n}"
            }
          },
          "metadata": {},
          "execution_count": 4
        }
      ],
      "source": [
        "df.tail(20)"
      ]
    },
    {
      "cell_type": "code",
      "execution_count": 5,
      "metadata": {
        "colab": {
          "base_uri": "https://localhost:8080/",
          "height": 452
        },
        "id": "leRFRWJMocVa",
        "outputId": "6a41a286-6299-4511-8b05-b51522ab6a8e"
      },
      "outputs": [
        {
          "output_type": "display_data",
          "data": {
            "text/plain": [
              "<Figure size 640x480 with 1 Axes>"
            ],
            "image/png": "[encoded data removed]"
          },
          "metadata": {}
        }
      ],
      "source": [
        "df.target.plot(kind='hist', title='Target distribution');"
      ]
    },
    {
      "cell_type": "markdown",
      "metadata": {
        "id": "ELjswHcFHfp3"
      },
      "source": [
        "## Task 4: Create tf.data.Datasets for Training and Evaluation"
      ]
    },
    {
      "cell_type": "code",
      "execution_count": 6,
      "metadata": {
        "colab": {
          "base_uri": "https://localhost:8080/"
        },
        "id": "fScULIGPwuWk",
        "outputId": "2aaf1c25-d552-4277-cceb-c4a743d1650e"
      },
      "outputs": [
        {
          "output_type": "execute_result",
          "data": {
            "text/plain": [
              "((9795, 3), (972, 3))"
            ]
          },
          "metadata": {},
          "execution_count": 6
        }
      ],
      "source": [
        "#to ensure that the stratification is maintained correctly for both splits\n",
        "#and to control the exact sizes and proportions of the training and validation sets independently\n",
        "train_df, remaining = train_test_split(df, random_state=42, train_size=0.0075, stratify=df.target.values)\n",
        "valid_df, _ = train_test_split(remaining, random_state=42, train_size=0.00075, stratify=remaining.target.values)\n",
        "train_df.shape, valid_df.shape"
      ]
    },
    {
      "cell_type": "code",
      "execution_count": 7,
      "metadata": {
        "colab": {
          "base_uri": "https://localhost:8080/"
        },
        "id": "qQYMGT5_qLPX",
        "outputId": "46a20578-d324-4bda-9303-04f21c4af534"
      },
      "outputs": [
        {
          "output_type": "stream",
          "name": "stdout",
          "text": [
            "tf.Tensor(b'Why are unhealthy relationships so desirable?', shape=(), dtype=string)\n",
            "tf.Tensor(0, shape=(), dtype=int64)\n"
          ]
        }
      ],
      "source": [
        "#to increase efficiency, turn the pandas dataframes to tf datasets\n",
        "with tf.device('/cpu:0'): #specifies that the following operations should be executed on the CPU\n",
        "  train_data = tf.data.Dataset.from_tensor_slices((train_df.question_text.values, train_df.target.values))\n",
        "  valid_data = tf.data.Dataset.from_tensor_slices((valid_df.question_text.values, valid_df.target.values))\n",
        "\n",
        "#retrieves the first element of the train_data #just to see what the data looks like\n",
        "for text, label in train_data.take(1):\n",
        "  print(text)\n",
        "  print(label)"
      ]
    },
    {
      "cell_type": "markdown",
      "metadata": {
        "id": "lOfxxLxxYcFa"
      },
      "source": [
        "##### Why do we use CPU here, despite running on a GPU-enabled environment like Google Colab? (generated by ChatGPT4o)\n",
        "\n",
        "1. I/O Bound Operations:\n",
        "\n",
        "Converting pandas DataFrames to TensorFlow datasets (from_tensor_slices) and inspecting the data are I/O-bound operations rather than compute-bound operations. These tasks involve data manipulation and memory operations which are more efficiently handled by the CPU.\n",
        "\n",
        "2. Efficiency in Data Handling:\n",
        "\n",
        "CPUs are generally more efficient for data loading and preprocessing tasks that involve handling data in memory. The overhead of transferring data between CPU and GPU can be avoided by performing these operations directly on the CPU. \"The overhead of transferring data between CPU and GPU\" refers to the time and resources required to move data from the computer's main memory (which is managed by the CPU) to the GPU's memory (and vice versa). This transfer is necessary when the data needs to be processed by the GPU, but it can introduce significant delays and resource consumption.\n",
        "\n",
        "3. GPU Utilization:\n",
        "\n",
        "The GPU should be reserved for computationally intensive tasks such as model training and inference. By keeping the data loading and preprocessing on the CPU, the GPU remains fully available for tasks where it can provide the most benefit."
      ]
    },
    {
      "cell_type": "markdown",
      "metadata": {
        "id": "e2-ReN88Hvy_"
      },
      "source": [
        "## Task 5: Download a Pre-trained BERT Model from TensorFlow Hub"
      ]
    },
    {
      "cell_type": "code",
      "execution_count": 8,
      "metadata": {
        "id": "EMb5M86b4-BU",
        "colab": {
          "base_uri": "https://localhost:8080/",
          "height": 90
        },
        "outputId": "c8b9e582-9ff5-454d-d9d5-9633716f5fe4"
      },
      "outputs": [
        {
          "output_type": "execute_result",
          "data": {
            "text/plain": [
              "'\\n1. hub.KerasLayer: This function from TensorFlow Hub is used to load a pre-trained model as a Keras layer.\\n2. The URL \"https://tfhub.dev/tensorflow/bert_en_uncased_L-12_H-768_A-12/2\" points to a specific version of the BERT model.\\n   This model is the \"BERT base\" model with 12 layers, 768 hidden units per layer, and 12 attention heads.\\n3. trainable=True: This parameter indicates that the BERT model\\'s weights should be updated during training, allowing for fine-tuning on your specific task.\\n'"
            ],
            "application/vnd.google.colaboratory.intrinsic+json": {
              "type": "string"
            }
          },
          "metadata": {},
          "execution_count": 8
        }
      ],
      "source": [
        "\"\"\"\n",
        "Each line of the dataset is composed of the review text and its label\n",
        "- Data preprocessing consists of transforming text to BERT input features:\n",
        "input_word_ids, input_mask, segment_ids\n",
        "- In the process, tokenizing the text is done with the provided BERT model tokenizer\n",
        "\"\"\"\n",
        "\n",
        "label_list = [0, 1] # Label categories # binary classification\n",
        "max_seq_length = 128 # maximum length of (token) input sequences #a standard value #adjust based on model performance and resource constraints\n",
        "train_batch_size = 32 #a standard value #adjust based on model performance and resource constraints\n",
        "\n",
        "# Get the pretrained BERT layer:\n",
        "# More details here: https://tfhub.dev/tensorflow/bert_en_uncased_L-12_H-768_A-12/2\n",
        "bert_layer = hub.KerasLayer(\"https://tfhub.dev/tensorflow/bert_en_uncased_L-12_H-768_A-12/2\",\n",
        "                            trainable=True)\n",
        "\n",
        "# retrieves BERT model-specific information\n",
        "vocab_file = bert_layer.resolved_object.vocab_file.asset_path.numpy()\n",
        "do_lower_case = bert_layer.resolved_object.do_lower_case.numpy() #=True\n",
        "\n",
        "# initialize the tokenizer to preprocess text data into the format required by the BERT model\n",
        "tokenizer = tokenization.FullTokenizer(vocab_file, do_lower_case)\n",
        "\n",
        "'''\n",
        "1. hub.KerasLayer: This function from TensorFlow Hub is used to load a pre-trained model as a Keras layer.\n",
        "2. The URL \"https://tfhub.dev/tensorflow/bert_en_uncased_L-12_H-768_A-12/2\" points to a specific version of the BERT model.\n",
        "   This model is the \"BERT base\" model with 12 layers, 768 hidden units per layer, and 12 attention heads.\n",
        "3. trainable=True: This parameter indicates that the BERT model's weights should be updated during training, allowing for fine-tuning on your specific task.\n",
        "'''"
      ]
    },
    {
      "cell_type": "code",
      "execution_count": 9,
      "metadata": {
        "colab": {
          "base_uri": "https://localhost:8080/"
        },
        "id": "wEUezMK-zkkI",
        "outputId": "afbcfd0b-42ae-445c-d80b-7cf488a9ebc6"
      },
      "outputs": [
        {
          "output_type": "execute_result",
          "data": {
            "text/plain": [
              "['hi', '##,', 'how', 'are', 'you', 'doing', '##?']"
            ]
          },
          "metadata": {},
          "execution_count": 9
        }
      ],
      "source": [
        "# a sentence-to-tokens example\n",
        "tokenizer.wordpiece_tokenizer.tokenize('hi, how are you doing?')"
      ]
    },
    {
      "cell_type": "code",
      "execution_count": 10,
      "metadata": {
        "colab": {
          "base_uri": "https://localhost:8080/"
        },
        "id": "5AFsmTO5JSmc",
        "outputId": "25bdf2e9-37af-4ced-e995-6dd0b4aee98b"
      },
      "outputs": [
        {
          "output_type": "execute_result",
          "data": {
            "text/plain": [
              "[7632, 29623, 2129, 2024, 2017, 2725, 29632]"
            ]
          },
          "metadata": {},
          "execution_count": 10
        }
      ],
      "source": [
        "# a sentence-to-token-ids example\n",
        "tokenizer.convert_tokens_to_ids(tokenizer.wordpiece_tokenizer.tokenize('hi, how are you doing?'))"
      ]
    },
    {
      "cell_type": "markdown",
      "metadata": {
        "id": "9QinzNq6OsP1"
      },
      "source": [
        "## Task 6: Tokenize and Preprocess Text for BERT"
      ]
    },
    {
      "cell_type": "markdown",
      "metadata": {
        "id": "3FTqJ698zZ1e"
      },
      "source": [
        "<div align=\"center\">\n",
        "    <img width=\"512px\" src='https://drive.google.com/uc?id=1-SpKFELnEvBMBqO7h3iypo8q9uUUo96P' />\n",
        "    <p style=\"text-align: center;color:gray\">Figure 2: BERT Tokenizer</p>\n",
        "</div>"
      ]
    },
    {
      "cell_type": "markdown",
      "metadata": {
        "id": "cWYkggYe6HZc"
      },
      "source": [
        "We'll need to transform our data into a format BERT understands. This involves two steps. First, we create InputExamples using `classifier_data_lib`'s constructor `InputExample` provided in the BERT library."
      ]
    },
    {
      "cell_type": "markdown",
      "metadata": {
        "id": "N8bx5aDWYcFo"
      },
      "source": [
        "##### Outputs of the BERT tokenizer (generated by ChatGPT4o)\n",
        "1. Token IDs: The tokenized representation of the input text. See example in the code cells above.\n",
        "2. Input Mask: The mask indicating which tokens are actual text (as 1) and which are padding (as 0). The input mask is a sequence of 1s and 0s, where 1 indicates a valid token and 0 indicates padding. This helps the BERT model differentiate between actual tokens and padding tokens, especially when dealing with sentences of varying lengths.\n",
        "e.g.\n",
        "Tokens:      [CLS] I love natural language processing . [SEP] [PAD] [PAD] [PAD]\n",
        "Token IDs:   [101] [1] [2] [3] [4] [5] [6] [102] [0] [0] [0]\n",
        "Input Mask:  [1]   [1] [1] [1] [1] [1] [1] [1]  [0] [0] [0]\n",
        "\n",
        "3. Input Type IDs (aka segment IDs): The IDs indicating different segments of text for tasks involving multiple sentences. In tasks where BERT needs to differentiate between two sentences (e.g., question-answering tasks), input type IDs are used.\n",
        "e.g.\n",
        "question and answer combined input text:\n",
        "[CLS] What is the capital of France? [SEP] Paris is the capital of France. It is known for its cafes and the Eiffel Tower. [SEP]\n",
        "\n",
        "input type ids:\n",
        "[0]  0   0  0  0    0    0    0  [0]  1   1    1    1      1   1  1   1  1   1  1    1     1    1     1 [1]\n",
        "\n",
        "CLS: classification, SEP: seperator"
      ]
    },
    {
      "cell_type": "code",
      "execution_count": 11,
      "metadata": {
        "id": "m-21A5aNJM0W"
      },
      "outputs": [],
      "source": [
        "# This provides a function to convert row to input features and label\n",
        "\n",
        "def to_feature(text, label, label_list=label_list, max_seq_length=max_seq_length, tokenizer=tokenizer):\n",
        "  example = classifier_data_lib.InputExample(guid = None, #unique id for each example; here we're working on 1 example at a time, so we don't need this\n",
        "                                            text_a = text.numpy(), #text to classify; getting the value of the tensor, the format the text is in\n",
        "                                            text_b = None, #text to match for next word prediction; but here we're doing a sentence classification, so we don't need this\n",
        "                                            label = label.numpy()) #get a label for this example\n",
        "\n",
        "  feature = classifier_data_lib.convert_single_example(0, example, label_list,\n",
        "                                    max_seq_length, tokenizer) #0 indicates the first example; here we're working on 1 example at a time, so each example is the first example\n",
        "\n",
        "  return (feature.input_ids, feature.input_mask, feature.segment_ids, feature.label_id)"
      ]
    },
    {
      "cell_type": "markdown",
      "metadata": {
        "id": "A_HQSsHwWCsK"
      },
      "source": [
        "You want to use [`Dataset.map`](https://www.tensorflow.org/api_docs/python/tf/data/Dataset#map) to apply this function to each element of the dataset. [`Dataset.map`](https://www.tensorflow.org/api_docs/python/tf/data/Dataset#map) runs in graph mode.\n",
        "\n",
        "- Graph tensors do not have a value.\n",
        "- In graph mode you can only use TensorFlow Ops and functions.\n",
        "\n",
        " The .numpy() method is eager execution and requires the code to be executed within a Python function, not in a TensorFlow graph context.\n",
        "\n",
        "So you can't `.map` this function directly: You need to wrap it in a [`tf.py_function`](https://www.tensorflow.org/api_docs/python/tf/py_function). The [`tf.py_function`](https://www.tensorflow.org/api_docs/python/tf/py_function) will pass regular tensors (with a value and a `.numpy()` method to access it), to the wrapped python function."
      ]
    },
    {
      "cell_type": "markdown",
      "metadata": {
        "id": "zaNlkKVfWX0Q"
      },
      "source": [
        "## Task 7: Wrap a Python Function into a TensorFlow operation for Eager Execution"
      ]
    },
    {
      "cell_type": "code",
      "execution_count": 12,
      "metadata": {
        "id": "AGACBcfCWC2O",
        "colab": {
          "base_uri": "https://localhost:8080/",
          "height": 54
        },
        "outputId": "d72009d4-2529-421e-de09-8291332c9898"
      },
      "outputs": [
        {
          "output_type": "execute_result",
          "data": {
            "text/plain": [
              "\"\\nWhen defining a model in TensorFlow using the Keras API, the model typically expects a dictionary of inputs.\\nFor example: model.fit(x={'input_word_ids': ..., 'input_mask': ..., 'input_type_ids': ...}, y=...)\\nThat's a major reason why we are bundling x and returning (x,y) here.\\n\""
            ],
            "application/vnd.google.colaboratory.intrinsic+json": {
              "type": "string"
            }
          },
          "metadata": {},
          "execution_count": 12
        }
      ],
      "source": [
        "'''\n",
        "The tf.py_function function allows you to wrap arbitrary Python code\n",
        "so that it can be used in TensorFlow operations, particularly within tf.data.Dataset.map.\n",
        "'''\n",
        "# pyton function 'to_feature' --> TensorFlow operation 'to_feature_map'\n",
        "def to_feature_map(text, label):\n",
        "  input_ids, input_mask, segment_ids, label_id = tf.py_function(to_feature, inp=[text, label],\n",
        "                                Tout=[tf.int32, tf.int32, tf.int32, tf.int32])\n",
        "                                #Tout, i.e. specified each Tensor output type as a 32-bit binary digits signed integer\n",
        "                                # The range of values that a 32-bit signed integer can represent is from -2,147,483,648 to 2,147,483,647.\n",
        "                                # +/- (2^31) -1\n",
        "\n",
        "  # tf.py_function doesn't set the shape of the returned tensors, so we need to do so here:\n",
        "  input_ids.set_shape([max_seq_length])\n",
        "  input_mask.set_shape([max_seq_length])\n",
        "  segment_ids.set_shape([max_seq_length])\n",
        "  label_id.set_shape([]) #the labels are not constrained to any shape\n",
        "\n",
        "  x = {\n",
        "        'input_word_ids': input_ids,\n",
        "        'input_mask': input_mask,\n",
        "        'input_type_ids': segment_ids\n",
        "    }\n",
        "  y = label_id\n",
        "\n",
        "  return (x, y) # i.e. (inputs, target label)\n",
        "'''\n",
        "When defining a model in TensorFlow using the Keras API, the model typically expects a dictionary of inputs.\n",
        "For example: model.fit(x={'input_word_ids': ..., 'input_mask': ..., 'input_type_ids': ...}, y=...)\n",
        "That's a major reason why we are bundling x and returning (x,y) here.\n",
        "'''"
      ]
    },
    {
      "cell_type": "markdown",
      "metadata": {
        "id": "dhdO6MjTbtn1"
      },
      "source": [
        "## Task 8: Create a TensorFlow Input Pipeline with `tf.data`"
      ]
    },
    {
      "cell_type": "code",
      "execution_count": 13,
      "metadata": {
        "id": "LHRdiO3dnPNr"
      },
      "outputs": [],
      "source": [
        "with tf.device('/cpu:0'):\n",
        "  # train\n",
        "  train_data = (train_data.map(to_feature_map,\n",
        "                              num_parallel_calls=tf.data.experimental.AUTOTUNE) #optimal nuber of parallel call\n",
        "                          .shuffle(1000) #buffer_size=1000 for shuffling #ensure that each mini-batch of data is a random sample from the entire dataset\n",
        "                          .batch(32, drop_remainder=True)\n",
        "                          .prefetch(tf.data.experimental.AUTOTUNE)) #reduces the step time to the maximum\n",
        "\n",
        "  # valid\n",
        "  valid_data = (valid_data.map(to_feature_map,\n",
        "                            num_parallel_calls=tf.data.experimental.AUTOTUNE)\n",
        "                          .batch(32, drop_remainder=True)\n",
        "                          .prefetch(tf.data.experimental.AUTOTUNE))"
      ]
    },
    {
      "cell_type": "markdown",
      "metadata": {
        "id": "jmdk38m2YcFq"
      },
      "source": [
        "##### Why do we do .shuffle(1000) here in the train_data? (generated by ChatGPT4o)\n",
        "The dataset.shuffle(buffer_size=1000) call shuffles the dataset using a buffer of size 1000. This means that at any point during the shuffling process, TensorFlow maintains a buffer of 1000 elements from which it randomly selects the next element. After shuffling, the dataset is batched and prefetched to prepare it for efficient training.\n",
        "\n",
        "1. Randomization:\n",
        "\n",
        "Shuffling introduces randomness to the order of the data. This randomness helps ensure that the model does not learn the order of the data, which can lead to overfitting.\n",
        "\n",
        "2. Training Stability:\n",
        "\n",
        "By shuffling the data, you ensure that each mini-batch of data is a random sample from the entire dataset. This improves the statistical properties of the batches, leading to more stable and efficient training.\n",
        "\n",
        "3. Avoiding Bias:\n",
        "\n",
        "Without shuffling, if there is any inherent order in the data (e.g., all positive samples followed by all negative samples), the model might learn to exploit this order, leading to poor generalization. Shuffling helps in mixing the data, ensuring that each batch contains a good mix of different types of samples.\n",
        "\n",
        "##### Why not also do .shuffle(1000) in the valid_data? (generated by ChatGPT4o)\n",
        "Shuffling the training data is crucial for ensuring that the model generalizes well and does not learn the order of the data. However, shuffling the validation data is typically not necessary and might even be counterproductive. Here's why:\n",
        "\n",
        "1. Consistency in Evaluation:\n",
        "\n",
        "During training, it's essential to evaluate the model's performance consistently on the same validation data. If the validation data is shuffled, the order of the samples changes in each epoch, which can lead to variations in validation performance due to different batches, making it harder to track the model's progress.\n",
        "\n",
        "2. Reproducibility:\n",
        "\n",
        "For reproducible results, you want the validation set to remain the same across different training runs. Shuffling the validation data can introduce variability, making it challenging to compare results from different runs.\n",
        "\n",
        "3. Sequential Data:\n",
        "\n",
        "If your data is sequential (like time-series data), the order of the validation data might be significant. Shuffling could destroy any inherent temporal relationships present in the validation set.\n",
        "\n",
        "4. Validation as a Static Benchmark:\n",
        "\n",
        "The validation set acts as a static benchmark to measure how well the model is performing. Keeping it unshuffled ensures that the evaluation metric reflects the model's performance on a fixed set of samples, providing a reliable measure of progress."
      ]
    },
    {
      "cell_type": "markdown",
      "metadata": {
        "id": "PESA7eZQYcFq"
      },
      "source": [
        "##### Why do we use CPU here, despite running on a GPU-enabled environment like Google Colab? (generated by ChatGPT4o)\n",
        "\n",
        "1. Efficiency of Data Pipeline:\n",
        "\n",
        "Data preprocessing tasks, such as mapping functions, shuffling, batching, and prefetching, often do not benefit significantly from GPU acceleration. These operations are typically I/O-bound rather than computation-bound. Using the CPU for these tasks can free up the GPU for the more computationally intensive tasks, such as model training and inference.\n",
        "\n",
        "2. Parallelization:\n",
        "\n",
        "The TensorFlow data pipeline can leverage multiple CPU cores for parallel processing of data. This can improve the throughput of the data pipeline, ensuring that the GPU always has data ready to process. By dividing the data processing tasks among multiple CPU cores, TensorFlow can handle several data processing operations simultaneously. This includes tasks like reading data from disk, applying transformations, tokenizing text, and batching.\n",
        "\n",
        "- prefetching data:\n",
        "While one batch of data is being processed by the GPU, the next batch is being prepared in parallel by the CPU.\n",
        "This overlapping of data preparation and processing ensures smooth and continuous data flow.\n",
        "\n",
        "- num_parallel_calls=tf.data.experimental.AUTOTUNE:\n",
        "This argument allows TensorFlow to automatically choose the optimal number of parallel calls based on the available CPU resources.\n",
        "\n",
        "3. GPU Utilization:\n",
        "\n",
        "Keeping the GPU focused on training and inference can maximize its utilization for the tasks it is best suited for. This helps in achieving better performance and faster training times."
      ]
    },
    {
      "cell_type": "markdown",
      "metadata": {
        "id": "KLUWnfx-YDi2"
      },
      "source": [
        "The resulting `tf.data.Datasets` return `(features, labels)` pairs, as expected by [`keras.Model.fit`](https://www.tensorflow.org/api_docs/python/tf/keras/Model#fit):"
      ]
    },
    {
      "cell_type": "code",
      "execution_count": 14,
      "metadata": {
        "colab": {
          "base_uri": "https://localhost:8080/",
          "height": 36
        },
        "id": "B0Z2cy9GHQ8x",
        "outputId": "415803ef-8f6a-4a97-9c9e-e6e1eeb50a2e"
      },
      "outputs": [
        {
          "output_type": "execute_result",
          "data": {
            "text/plain": [
              "'\\nTensor shape = (32, 128):\\nmeaning it contains batches of 32 samples, each of which is a sequence of 128 integers,\\nas specified in the previous code cells.\\n'"
            ],
            "application/vnd.google.colaboratory.intrinsic+json": {
              "type": "string"
            }
          },
          "metadata": {},
          "execution_count": 14
        }
      ],
      "source": [
        "# data spec\n",
        "train_data.element_spec\n",
        "\n",
        "'''\n",
        "Tensor shape = (32, 128):\n",
        "meaning it contains batches of 32 samples, each of which is a sequence of 128 integers,\n",
        "as specified in the previous code cells.\n",
        "'''"
      ]
    },
    {
      "cell_type": "code",
      "execution_count": 15,
      "metadata": {
        "colab": {
          "base_uri": "https://localhost:8080/"
        },
        "id": "DGAH-ycYOmao",
        "outputId": "4eeb2aab-7bbc-4d15-99e8-e58e275ffcdc"
      },
      "outputs": [
        {
          "output_type": "execute_result",
          "data": {
            "text/plain": [
              "({'input_word_ids': TensorSpec(shape=(32, 128), dtype=tf.int32, name=None),\n",
              "  'input_mask': TensorSpec(shape=(32, 128), dtype=tf.int32, name=None),\n",
              "  'input_type_ids': TensorSpec(shape=(32, 128), dtype=tf.int32, name=None)},\n",
              " TensorSpec(shape=(32,), dtype=tf.int32, name=None))"
            ]
          },
          "metadata": {},
          "execution_count": 15
        }
      ],
      "source": [
        "# data spec\n",
        "valid_data.element_spec"
      ]
    },
    {
      "cell_type": "markdown",
      "metadata": {
        "id": "GZxe-7yhPyQe"
      },
      "source": [
        "## Task 9: Add a Classification Head to the BERT Layer"
      ]
    },
    {
      "cell_type": "markdown",
      "metadata": {
        "id": "9THH5V0Dw2HO"
      },
      "source": [
        "<div align=\"center\">\n",
        "    <img width=\"512px\" src='https://drive.google.com/uc?id=1fnJTeJs5HUpz7nix-F9E6EZdgUflqyEu' />\n",
        "    <p style=\"text-align: center;color:gray\">Figure 3: BERT Layer</p>\n",
        "</div>"
      ]
    },
    {
      "cell_type": "code",
      "execution_count": null,
      "metadata": {
        "id": "G9il4gtlADcp"
      },
      "outputs": [],
      "source": [
        "# Building the model\n",
        "def create_model():  #copy-pasted the BERT layers from the BERT documentation\n",
        "  input_word_ids = tf.keras.layers.Input(shape=(max_seq_length,), dtype=tf.int32,\n",
        "                                      name=\"input_word_ids\")\n",
        "  input_mask = tf.keras.layers.Input(shape=(max_seq_length,), dtype=tf.int32,\n",
        "                                  name=\"input_mask\")\n",
        "  input_type_ids = tf.keras.layers.Input(shape=(max_seq_length,), dtype=tf.int32,\n",
        "                                  name=\"input_type_ids\")\n",
        "\n",
        "  pooled_output, sequence_output = bert_layer([input_word_ids, input_mask, input_type_ids])\n",
        "\n",
        "#add a dropout layer to minimize overfitting on the training set\n",
        "  drop = tf.keras.layers.Dropout(0.4)(pooled_output)\n",
        "  output = tf.keras.layers.Dense(1, activation=\"sigmoid\", name=\"output\")(drop) #binary classification\n",
        "\n",
        "  model = tf.keras.Model(\n",
        "    inputs={\n",
        "        'input_word_ids': input_word_ids,\n",
        "        'input_mask': input_mask,\n",
        "        'input_type_ids': input_type_ids\n",
        "    },\n",
        "    outputs=output)\n",
        "  return model"
      ]
    },
    {
      "cell_type": "markdown",
      "metadata": {
        "id": "S6maM-vr7YaJ"
      },
      "source": [
        "## Task 10: Fine-Tune BERT for Text Classification"
      ]
    },
    {
      "cell_type": "code",
      "execution_count": null,
      "metadata": {
        "colab": {
          "base_uri": "https://localhost:8080/"
        },
        "id": "ptCtiiONsBgo",
        "outputId": "7e8b8258-67bb-4360-f568-997767ba81a2"
      },
      "outputs": [
        {
          "output_type": "stream",
          "name": "stdout",
          "text": [
            "Model: \"model\"\n",
            "__________________________________________________________________________________________________\n",
            " Layer (type)                Output Shape                 Param #   Connected to                  \n",
            "==================================================================================================\n",
            " input_word_ids (InputLayer  [(None, 128)]                0         []                            \n",
            " )                                                                                                \n",
            "                                                                                                  \n",
            " input_mask (InputLayer)     [(None, 128)]                0         []                            \n",
            "                                                                                                  \n",
            " input_type_ids (InputLayer  [(None, 128)]                0         []                            \n",
            " )                                                                                                \n",
            "                                                                                                  \n",
            " keras_layer (KerasLayer)    [(None, 768),                1094822   ['input_word_ids[0][0]',      \n",
            "                              (None, 128, 768)]           41         'input_mask[0][0]',          \n",
            "                                                                     'input_type_ids[0][0]']      \n",
            "                                                                                                  \n",
            " dropout (Dropout)           (None, 768)                  0         ['keras_layer[0][0]']         \n",
            "                                                                                                  \n",
            " output (Dense)              (None, 1)                    769       ['dropout[0][0]']             \n",
            "                                                                                                  \n",
            "==================================================================================================\n",
            "Total params: 109483010 (417.64 MB)\n",
            "Trainable params: 109483009 (417.64 MB)\n",
            "Non-trainable params: 1 (1.00 Byte)\n",
            "__________________________________________________________________________________________________\n"
          ]
        }
      ],
      "source": [
        "# Compile the model: BERT with a binary class classification head\n",
        "model = create_model()\n",
        "model.compile(optimizer=tf.keras.optimizers.Adam(learning_rate=2e-5),\n",
        "              loss=tf.keras.losses.BinaryCrossentropy(),\n",
        "              metrics=[tf.keras.metrics.BinaryAccuracy()])\n",
        "model.summary()"
      ]
    },
    {
      "cell_type": "code",
      "execution_count": null,
      "metadata": {
        "colab": {
          "base_uri": "https://localhost:8080/",
          "height": 338
        },
        "id": "6GJaFnkbMtPL",
        "outputId": "cf2a4df3-1adb-45d0-e10b-d8b438e54061"
      },
      "outputs": [
        {
          "output_type": "execute_result",
          "data": {
            "image/png": "[encoded data removed]",
            "text/plain": [
              "<IPython.core.display.Image object>"
            ]
          },
          "metadata": {},
          "execution_count": 18
        }
      ],
      "source": [
        "# Visualize the structure of the model\n",
        "tf.keras.utils.plot_model(model=model, show_shapes=True, dpi=76, )"
      ]
    },
    {
      "cell_type": "code",
      "execution_count": null,
      "metadata": {
        "colab": {
          "base_uri": "https://localhost:8080/",
          "height": 199
        },
        "id": "OcREcgPUHr9O",
        "outputId": "c9457155-81e8-4b37-e9f2-d99f6543709b"
      },
      "outputs": [
        {
          "output_type": "stream",
          "name": "stdout",
          "text": [
            "Epoch 1/4\n",
            "306/306 [==============================] - 305s 839ms/step - loss: 0.1676 - binary_accuracy: 0.9394 - val_loss: 0.1273 - val_binary_accuracy: 0.9531\n",
            "Epoch 2/4\n",
            "306/306 [==============================] - 259s 841ms/step - loss: 0.0981 - binary_accuracy: 0.9632 - val_loss: 0.1382 - val_binary_accuracy: 0.9469\n",
            "Epoch 3/4\n",
            "306/306 [==============================] - 257s 836ms/step - loss: 0.0465 - binary_accuracy: 0.9838 - val_loss: 0.1752 - val_binary_accuracy: 0.9563\n",
            "Epoch 4/4\n",
            "306/306 [==============================] - 258s 842ms/step - loss: 0.0269 - binary_accuracy: 0.9907 - val_loss: 0.1787 - val_binary_accuracy: 0.9542\n"
          ]
        },
        {
          "output_type": "execute_result",
          "data": {
            "text/plain": [
              "'\\nYes, training the BERT model with a binary classification head using labeled, binary classified text data \\ndoes indeed equate to fine-tuning BERT for a binary text classification task.\\n'"
            ],
            "application/vnd.google.colaboratory.intrinsic+json": {
              "type": "string"
            }
          },
          "metadata": {},
          "execution_count": 19
        }
      ],
      "source": [
        "# Train, i.e. fine-tune, the model\n",
        "epochs = 4\n",
        "history = model.fit(train_data,\n",
        "                    validation_data=valid_data,\n",
        "                    epochs=epochs,\n",
        "                    verbose=1)\n",
        "\n",
        "'''\n",
        "Yes, training the BERT model with a binary classification head using labeled, binary classified text data\n",
        "does indeed equate to fine-tuning BERT for a binary text classification task.\n",
        "'''"
      ]
    },
    {
      "cell_type": "markdown",
      "metadata": {
        "id": "CPZxstfkYcFu"
      },
      "source": [
        "##### Fine-Tuning Specialization (generated by ChatGPT4o)\n",
        "The pre-trained BERT model already has a general understanding of language due to its extensive pre-training on a diverse corpus. This general knowledge helps the model understand and process new text to some extent.\n",
        "\n",
        "While, fine-tuning narrows down this general knowledge to specialize in the specific patterns and features of the training data for the binary classification task. This means the model is highly tuned to the characteristics of the training data, but this fine-tuning also makes it less flexible for drastically different text data. For example, a model trained on formal business emails for spam detection might not perform as well on casual social media posts or technical documents without additional fine-tuning on this new data.\n",
        "\n",
        "##### Practical Implications\n",
        "1. Adaptability: If you need the model to work well on a different but related domain, additional fine-tuning on data from that new domain can help improve performance.\n",
        "\n",
        "2. Evaluation: It’s important to evaluate the model on a validation set that is representative of the data it will encounter in production to understand its performance and generalization capabilities."
      ]
    },
    {
      "cell_type": "markdown",
      "metadata": {
        "id": "kNZl1lx_cA5Y"
      },
      "source": [
        "## Task 11: Evaluate the BERT Text Classification Model"
      ]
    },
    {
      "cell_type": "code",
      "execution_count": 16,
      "metadata": {
        "id": "dCjgrUYH_IsE"
      },
      "outputs": [],
      "source": [
        "import matplotlib.pyplot as plt\n",
        "\n",
        "#to plot the training and validation performance metrics over the training epochs\n",
        "def plot_graphs(history, metric):\n",
        "  plt.plot(history.history[metric])\n",
        "  plt.plot(history.history['val_'+metric], '')\n",
        "  plt.xlabel(\"Epochs\")\n",
        "  plt.ylabel(metric)\n",
        "  plt.legend([metric, 'val_'+metric])\n",
        "  plt.show()"
      ]
    },
    {
      "cell_type": "code",
      "execution_count": null,
      "metadata": {
        "colab": {
          "base_uri": "https://localhost:8080/",
          "height": 449
        },
        "id": "v6lrFRra_KmA",
        "outputId": "e1dbdffc-7061-4e58-c5b1-515b9d4b8593"
      },
      "outputs": [
        {
          "output_type": "display_data",
          "data": {
            "text/plain": [
              "<Figure size 640x480 with 1 Axes>"
            ],
            "image/png": "[encoded data removed]"
          },
          "metadata": {}
        }
      ],
      "source": [
        "plot_graphs(history, 'binary_accuracy')\n",
        "# blue: training binary accuracy; orange: validation binary accuracy"
      ]
    },
    {
      "cell_type": "code",
      "execution_count": null,
      "metadata": {
        "colab": {
          "base_uri": "https://localhost:8080/",
          "height": 449
        },
        "id": "opu9neBA_98R",
        "outputId": "243943b6-e8f5-4f54-9b42-0f0692288160"
      },
      "outputs": [
        {
          "output_type": "display_data",
          "data": {
            "text/plain": [
              "<Figure size 640x480 with 1 Axes>"
            ],
            "image/png": "[encoded data removed]"
          },
          "metadata": {}
        }
      ],
      "source": [
        "plot_graphs(history, 'loss')\n",
        "# blue: training loss; orange: validation loss"
      ]
    },
    {
      "cell_type": "markdown",
      "metadata": {
        "id": "xf7OeudsYcFv"
      },
      "source": [
        "##### How not to overfit?"
      ]
    },
    {
      "cell_type": "code",
      "execution_count": null,
      "metadata": {
        "colab": {
          "base_uri": "https://localhost:8080/"
        },
        "id": "hkhtCCgnUbY6",
        "outputId": "7a87bc5c-7404-4417-9e4c-565f22b9a7a4"
      },
      "outputs": [
        {
          "output_type": "stream",
          "name": "stdout",
          "text": [
            "30/30 [==============================] - 9s 284ms/step - loss: 0.1787 - binary_accuracy: 0.9542\n"
          ]
        },
        {
          "output_type": "execute_result",
          "data": {
            "text/plain": [
              "[0.17868950963020325, 0.9541666507720947]"
            ]
          },
          "metadata": {},
          "execution_count": 23
        }
      ],
      "source": [
        "model.evaluate(valid_data, verbose=1) #returns a list of loss and binary accuracy"
      ]
    },
    {
      "cell_type": "code",
      "execution_count": null,
      "metadata": {
        "id": "K4B8NQBLd9rN",
        "colab": {
          "base_uri": "https://localhost:8080/"
        },
        "outputId": "6edb41eb-43ab-4479-81a5-f1764f9797a5"
      },
      "outputs": [
        {
          "output_type": "stream",
          "name": "stdout",
          "text": [
            "6/6 [==============================] - 0s 23ms/step\n"
          ]
        }
      ],
      "source": [
        "sample_example = [\"What is your email address?\",\n",
        "                  \"Are you ashamed of being an Asain?\",\n",
        "                  \"I love animals! How about you?\",\n",
        "                  \"Does AI engineering have a good future?\",\n",
        "                  \"What's your name?\",\n",
        "                  \"Can a job interviewer be racist?\"]\n",
        "test_data = tf.data.Dataset.from_tensor_slices((sample_example, [0]*len(sample_example)))\n",
        "test_data = (test_data.map(to_feature_map).batch(1))\n",
        "preds = model.predict(test_data)"
      ]
    },
    {
      "cell_type": "code",
      "execution_count": null,
      "metadata": {
        "id": "iYqbQZJnJUHw",
        "colab": {
          "base_uri": "https://localhost:8080/"
        },
        "outputId": "baec8aea-cfac-4d66-c2b7-d290766dbd7e"
      },
      "outputs": [
        {
          "output_type": "execute_result",
          "data": {
            "text/plain": [
              "['Sincere', 'Sincere', 'Sincere', 'Sincere', 'Sincere', 'Sincere']"
            ]
          },
          "metadata": {},
          "execution_count": 52
        }
      ],
      "source": [
        "threshold = 0.5 #between 0 and 1\n",
        "['Toxic' if pred >=threshold else 'Sincere' for pred in preds]"
      ]
    },
    {
      "cell_type": "markdown",
      "source": [
        "## Overfitting\n",
        "Why does the model fail to identify toxic questions like \"Are you ashamed of being an Asain?\" in the example above? Because of model overfit? Yes, probably. I will need to optimize this model and fix this issue.\n",
        "\n",
        "## What Overfitting Means (generated by ChatGPT4o)\n",
        "Overfitting occurs when a machine learning model learns not only the underlying patterns in the training data but also the noise and random fluctuations. This leads to a model that performs exceptionally well on the training data but poorly on new, unseen data. In essence, an overfitted model has memorized the training data rather than learning to generalize from it.\n",
        "\n",
        "## Indicators of Overfitting (generated by ChatGPT4o)\n",
        "1. High Training Accuracy but Low Validation Accuracy: The model performs very well on the training set but has significantly lower performance on the validation set.\n",
        "2. Increasing Validation Loss: While the training loss continues to decrease, the validation loss starts to increase after a certain point.\n",
        "\n",
        "\n",
        "## Possible Reasons for Overfitting in a Fine-Tuned BERT Model (generated by ChatGPT4o)\n",
        "1. Complexity of the Model: BERT is a highly complex model with millions of parameters. This high capacity allows it to memorize the training data easily, especially if the training dataset is small.\n",
        "\n",
        "2. Insufficient Training Data: If the training dataset is not large enough, the model will not have enough variety to learn general patterns. This makes it more likely to overfit the training data.\n",
        "\n",
        "3. Too Many Training Epochs: Training the model for too many epochs can lead to overfitting, as the model continues to adjust its parameters to fit the training data more closely.\n",
        "\n",
        "4. Inadequate Regularization: Regularization techniques like dropout and L2 regularization are essential to prevent overfitting. If these are not adequately applied, the model is more likely to overfit.\n",
        "\n",
        "5. High Learning Rate: A high learning rate can cause the model to converge quickly to a point where it fits the training data very well but fails to generalize.\n",
        "\n",
        "6. Lack of Data Augmentation: Not using data augmentation can limit the diversity of the training data, making it easier for the model to overfit.\n",
        "\n",
        "7. Data Leakage: If there is any overlap between the training and validation datasets, the model can overfit to the training data.\n",
        "\n",
        "## Addressing Overfitting (generated by ChatGPT4o)\n",
        "1. Increase Dropout: Adding dropout layers with higher rates can help by randomly turning off some neurons during training, forcing the model to learn more robust features.\n",
        "\n",
        "2. Use Weight Decay (L2 Regularization): This technique penalizes large weights and encourages the model to keep the weights small, preventing it from fitting the training data too closely.\n",
        "\n",
        "3. Early Stopping: Monitor the validation loss during training and stop training once the validation loss stops improving.\n",
        "\n",
        "4. Reduce Model Complexity: Use a smaller version of BERT, such as DistilBERT or ALBERT, which has fewer parameters.\n",
        "\n",
        "5. Increase Training Data: Collect more training data if possible, or use data augmentation techniques to artificially increase the size of the training dataset.\n",
        "\n",
        "6. Cross-Validation: Use cross-validation to ensure that the model generalizes well across different subsets of the data.\n",
        "\n",
        "7. Adjust Learning Rate: Lower the learning rate to allow the model to learn more gradually and avoid overfitting.\n",
        "\n",
        "8. Freeze Some Layers: Freeze some of the layers in the BERT model to reduce the number of trainable parameters."
      ],
      "metadata": {
        "id": "mFGk07oXfZMJ"
      }
    },
    {
      "cell_type": "markdown",
      "source": [
        "## Model Optimization First Attempt: Fewer Epochs (Failed)"
      ],
      "metadata": {
        "id": "xrph0yNkiC4Q"
      }
    },
    {
      "cell_type": "code",
      "source": [
        "# lower the number of epochs to deal with the overfitting issue\n",
        "epochs = 1 #originally 4\n",
        "history = model.fit(train_data,\n",
        "                    validation_data=valid_data,\n",
        "                    epochs=epochs,\n",
        "                    verbose=1)"
      ],
      "metadata": {
        "colab": {
          "base_uri": "https://localhost:8080/"
        },
        "id": "-n44Epv7iLT4",
        "outputId": "e450ae50-e1c1-4c53-a414-18b2c4daed1f"
      },
      "execution_count": null,
      "outputs": [
        {
          "output_type": "stream",
          "name": "stdout",
          "text": [
            "306/306 [==============================] - 14009s 46s/step - loss: 0.1762 - binary_accuracy: 0.9336 - val_loss: 0.1297 - val_binary_accuracy: 0.9531\n"
          ]
        }
      ]
    },
    {
      "cell_type": "code",
      "source": [
        "sample_example = [\"What is your email address?\",\n",
        "                  \"Are you ashamed of being an Asain?\",\n",
        "                  \"I love animals! How about you?\",\n",
        "                  \"Does AI engineering have a good future?\",\n",
        "                  \"What's your name?\",\n",
        "                  \"Can a job interviewer be racist?\"]\n",
        "test_data = tf.data.Dataset.from_tensor_slices((sample_example, [0]*len(sample_example)))\n",
        "test_data = (test_data.map(to_feature_map).batch(1))\n",
        "preds = model.predict(test_data)"
      ],
      "metadata": {
        "colab": {
          "base_uri": "https://localhost:8080/"
        },
        "id": "bHvMgvRykWdu",
        "outputId": "414213d1-aaf9-4e7e-b3ca-bf6d7009886b"
      },
      "execution_count": null,
      "outputs": [
        {
          "output_type": "stream",
          "name": "stdout",
          "text": [
            "6/6 [==============================] - 5s 612ms/step\n"
          ]
        }
      ]
    },
    {
      "cell_type": "code",
      "source": [
        "threshold = 0.5 #between 0 and 1\n",
        "['Toxic' if pred >=threshold else 'Sincere' for pred in preds]"
      ],
      "metadata": {
        "colab": {
          "base_uri": "https://localhost:8080/"
        },
        "id": "oWhJAb4rkafZ",
        "outputId": "8938c01c-de5d-4978-f65b-08e0eead7fef"
      },
      "execution_count": null,
      "outputs": [
        {
          "output_type": "execute_result",
          "data": {
            "text/plain": [
              "['Sincere', 'Sincere', 'Sincere', 'Sincere', 'Sincere', 'Sincere']"
            ]
          },
          "metadata": {},
          "execution_count": 24
        }
      ]
    },
    {
      "cell_type": "markdown",
      "source": [
        "## Model Optimization Second Attempt: Weight Decay and Early Stopping (Failed)"
      ],
      "metadata": {
        "id": "gJgp20KFcLq-"
      }
    },
    {
      "cell_type": "code",
      "source": [
        "from transformers import TFBertModel, BertTokenizer, AdamW\n",
        "from tensorflow.keras.callbacks import EarlyStopping"
      ],
      "metadata": {
        "id": "j323qBhldz9f"
      },
      "execution_count": 17,
      "outputs": []
    },
    {
      "cell_type": "code",
      "source": [
        "model = create_model()\n",
        "\n",
        "#Added AdamW optimizer with weight decay\n",
        "optimizer = tf.keras.optimizers.AdamW(learning_rate=2e-5, weight_decay=0.01)\n",
        "\n",
        "model.compile(optimizer=optimizer,\n",
        "              loss=tf.keras.losses.BinaryCrossentropy(),\n",
        "              metrics=[tf.keras.metrics.BinaryAccuracy()])\n",
        "\n",
        "#Added early stopping callback\n",
        "early_stopping = EarlyStopping(monitor='val_loss', patience=2, restore_best_weights=True)\n",
        "\n",
        "epochs = 4\n",
        "history = model.fit(train_data,\n",
        "                    validation_data=valid_data,\n",
        "                    epochs=epochs,\n",
        "                    callbacks=[early_stopping],\n",
        "                    verbose=1)"
      ],
      "metadata": {
        "colab": {
          "base_uri": "https://localhost:8080/"
        },
        "id": "wI2q4DKYdivV",
        "outputId": "b350c69d-6609-463d-f539-a4bc249fc7e7"
      },
      "execution_count": null,
      "outputs": [
        {
          "output_type": "stream",
          "name": "stdout",
          "text": [
            "Epoch 1/4\n",
            "306/306 [==============================] - 318s 874ms/step - loss: 0.1608 - binary_accuracy: 0.9418 - val_loss: 0.1239 - val_binary_accuracy: 0.9573\n",
            "Epoch 2/4\n",
            "306/306 [==============================] - 268s 874ms/step - loss: 0.1045 - binary_accuracy: 0.9616 - val_loss: 0.1325 - val_binary_accuracy: 0.9594\n",
            "Epoch 3/4\n",
            "306/306 [==============================] - 267s 870ms/step - loss: 0.0617 - binary_accuracy: 0.9794 - val_loss: 0.1296 - val_binary_accuracy: 0.9563\n"
          ]
        }
      ]
    },
    {
      "cell_type": "code",
      "source": [
        "plot_graphs(history, 'binary_accuracy')\n",
        "# blue: training binary accuracy; orange: validation binary accuracy"
      ],
      "metadata": {
        "colab": {
          "base_uri": "https://localhost:8080/",
          "height": 449
        },
        "id": "yqlXrQS8efV1",
        "outputId": "1d18db74-22d2-489b-ee05-aa83c6c8fbf2"
      },
      "execution_count": null,
      "outputs": [
        {
          "output_type": "display_data",
          "data": {
            "text/plain": [
              "<Figure size 640x480 with 1 Axes>"
            ],
            "image/png": "[encoded data removed]"
          },
          "metadata": {}
        }
      ]
    },
    {
      "cell_type": "code",
      "source": [
        "plot_graphs(history, 'loss')\n",
        "# blue: training loss; orange: validation loss"
      ],
      "metadata": {
        "colab": {
          "base_uri": "https://localhost:8080/",
          "height": 449
        },
        "id": "o68QZUIaef5X",
        "outputId": "a9721324-6a5e-49a5-b47e-ae87127aeeb3"
      },
      "execution_count": null,
      "outputs": [
        {
          "output_type": "display_data",
          "data": {
            "text/plain": [
              "<Figure size 640x480 with 1 Axes>"
            ],
            "image/png": "[encoded data removed]"
          },
          "metadata": {}
        }
      ]
    },
    {
      "cell_type": "code",
      "source": [
        "sample_example = [\"What is your email address?\",\n",
        "                  \"Are you ashamed of being an Asain?\",\n",
        "                  \"I love animals! How about you?\",\n",
        "                  \"Does AI engineering have a good future?\",\n",
        "                  \"What's your name?\",\n",
        "                  \"Can a job interviewer be racist?\"]\n",
        "test_data = tf.data.Dataset.from_tensor_slices((sample_example, [0]*len(sample_example)))\n",
        "test_data = (test_data.map(to_feature_map).batch(1))\n",
        "preds = model.predict(test_data)"
      ],
      "metadata": {
        "colab": {
          "base_uri": "https://localhost:8080/"
        },
        "id": "md4SnX-neiZD",
        "outputId": "49b9f0cc-c7c0-46d5-f415-9129b88501df"
      },
      "execution_count": null,
      "outputs": [
        {
          "output_type": "stream",
          "name": "stdout",
          "text": [
            "6/6 [==============================] - 1s 26ms/step\n"
          ]
        }
      ]
    },
    {
      "cell_type": "code",
      "source": [
        "threshold = 0.5 #between 0 and 1\n",
        "['Toxic' if pred >=threshold else 'Sincere' for pred in preds]"
      ],
      "metadata": {
        "colab": {
          "base_uri": "https://localhost:8080/"
        },
        "id": "tiFosHcNekrV",
        "outputId": "e0b92028-6ef3-4e95-96ec-4d3c92deb230"
      },
      "execution_count": null,
      "outputs": [
        {
          "output_type": "execute_result",
          "data": {
            "text/plain": [
              "['Sincere', 'Sincere', 'Sincere', 'Sincere', 'Sincere', 'Sincere']"
            ]
          },
          "metadata": {},
          "execution_count": 27
        }
      ]
    },
    {
      "cell_type": "markdown",
      "source": [
        "## Model Optimization Third Attempt: (Augmented on the Second Attempt) Increased Dropout, Lowered Learning Rate, Added L2 Regularization (Success!)"
      ],
      "metadata": {
        "id": "vdLlJ4AWN2ap"
      }
    },
    {
      "cell_type": "code",
      "source": [
        "# Building the model\n",
        "def create_model():  #copy-pasted the BERT layers from the BERT documentation\n",
        "  input_word_ids = tf.keras.layers.Input(shape=(max_seq_length,), dtype=tf.int32,\n",
        "                                      name=\"input_word_ids\")\n",
        "  input_mask = tf.keras.layers.Input(shape=(max_seq_length,), dtype=tf.int32,\n",
        "                                  name=\"input_mask\")\n",
        "  input_type_ids = tf.keras.layers.Input(shape=(max_seq_length,), dtype=tf.int32,\n",
        "                                  name=\"input_type_ids\")\n",
        "\n",
        "  pooled_output, sequence_output = bert_layer([input_word_ids, input_mask, input_type_ids])\n",
        "\n",
        "#add a dropout layer to minimize overfitting on the training set\n",
        "  drop = tf.keras.layers.Dropout(0.5)(pooled_output) ##originally 0.4\n",
        "  output = tf.keras.layers.Dense(1, activation=\"sigmoid\", kernel_regularizer=tf.keras.regularizers.l2(0.01), name=\"output\")(drop) #binary classification ##added L2 regularization\n",
        "\n",
        "  model = tf.keras.Model(\n",
        "    inputs={\n",
        "        'input_word_ids': input_word_ids,\n",
        "        'input_mask': input_mask,\n",
        "        'input_type_ids': input_type_ids\n",
        "    },\n",
        "    outputs=output)\n",
        "  return model"
      ],
      "metadata": {
        "id": "cwdRzGB3N2s_"
      },
      "execution_count": 14,
      "outputs": []
    },
    {
      "cell_type": "code",
      "source": [
        "model = create_model()\n",
        "\n",
        "#AdamW optimizer with weight decay\n",
        "optimizer = tf.keras.optimizers.AdamW(learning_rate=1e-5, weight_decay=0.01) #originally 2e-5 #decreased to allow the model to learn more slowly\n",
        "\n",
        "model.compile(optimizer=optimizer,\n",
        "              loss=tf.keras.losses.BinaryCrossentropy(),\n",
        "              metrics=[tf.keras.metrics.BinaryAccuracy()])\n",
        "\n",
        "#Early stopping callback\n",
        "early_stopping = EarlyStopping(monitor='val_loss', patience=2, restore_best_weights=True)\n",
        "\n",
        "epochs = 4\n",
        "history = model.fit(train_data,\n",
        "                    validation_data=valid_data,\n",
        "                    epochs=epochs,\n",
        "                    callbacks=[early_stopping],\n",
        "                    verbose=1)"
      ],
      "metadata": {
        "id": "L_qFZExjOm2h",
        "colab": {
          "base_uri": "https://localhost:8080/"
        },
        "outputId": "a5423c7e-710f-44fa-928e-8ddf6c042ca5"
      },
      "execution_count": 22,
      "outputs": [
        {
          "output_type": "stream",
          "name": "stdout",
          "text": [
            "Epoch 1/4\n",
            "306/306 [==============================] - 304s 845ms/step - loss: 0.2297 - binary_accuracy: 0.9218 - val_loss: 0.1482 - val_binary_accuracy: 0.9469\n",
            "Epoch 2/4\n",
            "306/306 [==============================] - 256s 834ms/step - loss: 0.1357 - binary_accuracy: 0.9580 - val_loss: 0.1408 - val_binary_accuracy: 0.9594\n",
            "Epoch 3/4\n",
            "306/306 [==============================] - 256s 833ms/step - loss: 0.1033 - binary_accuracy: 0.9709 - val_loss: 0.1636 - val_binary_accuracy: 0.9510\n",
            "Epoch 4/4\n",
            "306/306 [==============================] - 258s 840ms/step - loss: 0.0686 - binary_accuracy: 0.9831 - val_loss: 0.1918 - val_binary_accuracy: 0.9656\n"
          ]
        }
      ]
    },
    {
      "cell_type": "code",
      "source": [
        "plot_graphs(history, 'binary_accuracy')\n",
        "# blue: training binary accuracy; orange: validation binary accuracy"
      ],
      "metadata": {
        "id": "bGRTasRWQFUD",
        "colab": {
          "base_uri": "https://localhost:8080/",
          "height": 449
        },
        "outputId": "98c8a5e9-b922-4904-aa75-b6ca5961cc77"
      },
      "execution_count": 23,
      "outputs": [
        {
          "output_type": "display_data",
          "data": {
            "text/plain": [
              "<Figure size 640x480 with 1 Axes>"
            ],
            "image/png": "[encoded data removed]"
          },
          "metadata": {}
        }
      ]
    },
    {
      "cell_type": "code",
      "source": [
        "plot_graphs(history, 'loss')\n",
        "# blue: training loss; orange: validation loss"
      ],
      "metadata": {
        "id": "qaJF1n_OQF3l",
        "colab": {
          "base_uri": "https://localhost:8080/",
          "height": 449
        },
        "outputId": "4ecc1b8d-2a59-42e5-d6cd-9095619fed85"
      },
      "execution_count": 24,
      "outputs": [
        {
          "output_type": "display_data",
          "data": {
            "text/plain": [
              "<Figure size 640x480 with 1 Axes>"
            ],
            "image/png": "[encoded data removed]"
          },
          "metadata": {}
        }
      ]
    },
    {
      "cell_type": "code",
      "source": [
        "sample_example = [\"What is your email address?\",\n",
        "                  \"Are you ashamed of being an Asain?\",\n",
        "                  \"I love animals! How about you?\",\n",
        "                  \"Does AI engineering have a good future?\",\n",
        "                  \"What's your name?\",\n",
        "                  \"Can a job interviewer be racist?\"]\n",
        "test_data = tf.data.Dataset.from_tensor_slices((sample_example, [0]*len(sample_example)))\n",
        "test_data = (test_data.map(to_feature_map).batch(1))\n",
        "preds = model.predict(test_data)"
      ],
      "metadata": {
        "id": "e0fc4IF1QH7q",
        "colab": {
          "base_uri": "https://localhost:8080/"
        },
        "outputId": "5d3b4cb2-f66e-4842-ece2-37182d312a6a"
      },
      "execution_count": 25,
      "outputs": [
        {
          "output_type": "stream",
          "name": "stdout",
          "text": [
            "6/6 [==============================] - 1s 23ms/step\n"
          ]
        }
      ]
    },
    {
      "cell_type": "code",
      "source": [
        "threshold = 0.5 #between 0 and 1\n",
        "['Toxic' if pred >=threshold else 'Sincere' for pred in preds]"
      ],
      "metadata": {
        "id": "lOVAdQ0cQLY-",
        "colab": {
          "base_uri": "https://localhost:8080/"
        },
        "outputId": "d4bc104f-46df-4be4-e2b1-b4ab95689e0d"
      },
      "execution_count": 26,
      "outputs": [
        {
          "output_type": "execute_result",
          "data": {
            "text/plain": [
              "['Sincere', 'Sincere', 'Sincere', 'Sincere', 'Sincere', 'Sincere']"
            ]
          },
          "metadata": {},
          "execution_count": 26
        }
      ]
    },
    {
      "cell_type": "markdown",
      "source": [
        "##### The model still overfits. However, the time of overfit has significantly shifted from epoch 0.5 to epoch 1. The degree of overfit has also decreased. This indicates that the model is learning much slower and generalizing better."
      ],
      "metadata": {
        "id": "_Px-Ibj8ZiIw"
      }
    },
    {
      "cell_type": "markdown",
      "source": [
        "## Model Operization Attempt Four: (Augmented on Previous Attempts) Reduce Batch Size (Failed)"
      ],
      "metadata": {
        "id": "VdzZU9HkkSv4"
      }
    },
    {
      "cell_type": "code",
      "source": [
        "# Building the model\n",
        "def create_model():  #copy-pasted the BERT layers from the BERT documentation\n",
        "  input_word_ids = tf.keras.layers.Input(shape=(max_seq_length,), dtype=tf.int32,\n",
        "                                      name=\"input_word_ids\")\n",
        "  input_mask = tf.keras.layers.Input(shape=(max_seq_length,), dtype=tf.int32,\n",
        "                                  name=\"input_mask\")\n",
        "  input_type_ids = tf.keras.layers.Input(shape=(max_seq_length,), dtype=tf.int32,\n",
        "                                  name=\"input_type_ids\")\n",
        "\n",
        "  pooled_output, sequence_output = bert_layer([input_word_ids, input_mask, input_type_ids])\n",
        "\n",
        "#add a dropout layer to minimize overfitting on the training set\n",
        "  drop = tf.keras.layers.Dropout(0.5)(pooled_output) ##originally 0.4\n",
        "  output = tf.keras.layers.Dense(1, activation=\"sigmoid\", kernel_regularizer=tf.keras.regularizers.l2(0.01), name=\"output\")(drop) #binary classification ##added L2 regularization\n",
        "\n",
        "  model = tf.keras.Model(\n",
        "    inputs={\n",
        "        'input_word_ids': input_word_ids,\n",
        "        'input_mask': input_mask,\n",
        "        'input_type_ids': input_type_ids\n",
        "    },\n",
        "    outputs=output)\n",
        "  return model"
      ],
      "metadata": {
        "id": "etbS7ipVkadO"
      },
      "execution_count": 26,
      "outputs": []
    },
    {
      "cell_type": "code",
      "source": [
        "model = create_model()\n",
        "\n",
        "#AdamW optimizer with weight decay\n",
        "optimizer = tf.keras.optimizers.AdamW(learning_rate=1e-5, weight_decay=0.01) #originally 2e-5 #decreased to allow the model to learn more slowly\n",
        "\n",
        "model.compile(optimizer=optimizer,\n",
        "              loss=tf.keras.losses.BinaryCrossentropy(),\n",
        "              metrics=[tf.keras.metrics.BinaryAccuracy()])\n",
        "\n",
        "#Early stopping callback\n",
        "early_stopping = EarlyStopping(monitor='val_loss', patience=2, restore_best_weights=True)\n",
        "\n",
        "epochs = 4\n",
        "history = model.fit(train_data,\n",
        "                    validation_data=valid_data,\n",
        "                    epochs=epochs,\n",
        "                    batch_size= 8, ##originally 32\n",
        "                    callbacks=[early_stopping],\n",
        "                    verbose=1)"
      ],
      "metadata": {
        "colab": {
          "base_uri": "https://localhost:8080/"
        },
        "id": "ozSevqXzknuq",
        "outputId": "20f2634c-9f0c-483a-efa0-4d83ef0d6f64"
      },
      "execution_count": 28,
      "outputs": [
        {
          "output_type": "stream",
          "name": "stdout",
          "text": [
            "Epoch 1/4\n",
            "306/306 [==============================] - 311s 852ms/step - loss: 0.1905 - binary_accuracy: 0.9420 - val_loss: 0.1422 - val_binary_accuracy: 0.9583\n",
            "Epoch 2/4\n",
            "306/306 [==============================] - 258s 840ms/step - loss: 0.1310 - binary_accuracy: 0.9583 - val_loss: 0.1566 - val_binary_accuracy: 0.9594\n",
            "Epoch 3/4\n",
            "306/306 [==============================] - 257s 835ms/step - loss: 0.0920 - binary_accuracy: 0.9747 - val_loss: 0.1731 - val_binary_accuracy: 0.9573\n"
          ]
        }
      ]
    },
    {
      "cell_type": "code",
      "source": [
        "plot_graphs(history, 'binary_accuracy')\n",
        "# blue: training binary accuracy; orange: validation binary accuracy"
      ],
      "metadata": {
        "colab": {
          "base_uri": "https://localhost:8080/",
          "height": 449
        },
        "id": "8ca16_VokzJ-",
        "outputId": "3c71ca36-482b-4155-b69f-eedc49061958"
      },
      "execution_count": 29,
      "outputs": [
        {
          "output_type": "display_data",
          "data": {
            "text/plain": [
              "<Figure size 640x480 with 1 Axes>"
            ],
            "image/png": "[encoded data removed]"
          },
          "metadata": {}
        }
      ]
    },
    {
      "cell_type": "code",
      "source": [
        "plot_graphs(history, 'loss')\n",
        "# blue: training loss; orange: validation loss"
      ],
      "metadata": {
        "colab": {
          "base_uri": "https://localhost:8080/",
          "height": 449
        },
        "id": "77EuVVkRkzgK",
        "outputId": "922f2688-c0f2-451a-9612-ee34bb159e40"
      },
      "execution_count": 30,
      "outputs": [
        {
          "output_type": "display_data",
          "data": {
            "text/plain": [
              "<Figure size 640x480 with 1 Axes>"
            ],
            "image/png": "[encoded data removed]"
          },
          "metadata": {}
        }
      ]
    },
    {
      "cell_type": "code",
      "source": [
        "sample_example = [\"What is your email address?\",\n",
        "                  \"Are you ashamed of being an Asain?\",\n",
        "                  \"I love animals! How about you?\",\n",
        "                  \"Does AI engineering have a good future?\",\n",
        "                  \"What's your name?\",\n",
        "                  \"Can a job interviewer be racist?\"]\n",
        "test_data = tf.data.Dataset.from_tensor_slices((sample_example, [0]*len(sample_example)))\n",
        "test_data = (test_data.map(to_feature_map).batch(1))\n",
        "preds = model.predict(test_data)"
      ],
      "metadata": {
        "colab": {
          "base_uri": "https://localhost:8080/"
        },
        "id": "ECoxTWNWk47e",
        "outputId": "9ec3012c-b114-4b2c-dedc-41ab20cf93b0"
      },
      "execution_count": 31,
      "outputs": [
        {
          "output_type": "stream",
          "name": "stdout",
          "text": [
            "6/6 [==============================] - 1s 23ms/step\n"
          ]
        }
      ]
    },
    {
      "cell_type": "code",
      "source": [
        "threshold = 0.5 #between 0 and 1\n",
        "['Toxic' if pred >=threshold else 'Sincere' for pred in preds]"
      ],
      "metadata": {
        "colab": {
          "base_uri": "https://localhost:8080/"
        },
        "id": "dZ4A4kT1k7Kw",
        "outputId": "eea29b79-f250-4cfa-e3a4-b1df0ac2ce38"
      },
      "execution_count": 32,
      "outputs": [
        {
          "output_type": "execute_result",
          "data": {
            "text/plain": [
              "['Sincere', 'Sincere', 'Sincere', 'Sincere', 'Sincere', 'Sincere']"
            ]
          },
          "metadata": {},
          "execution_count": 32
        }
      ]
    },
    {
      "cell_type": "markdown",
      "source": [
        "The model overfits more. This attempt failed."
      ],
      "metadata": {
        "id": "ORLcZ8YCqFw3"
      }
    },
    {
      "cell_type": "markdown",
      "source": [
        "## Model Operization Attempt Five: (Augmented on the Third Attempt) Reduce to 1 Training Epoch and the Prediction Threshold (Huge Success!)"
      ],
      "metadata": {
        "id": "cZbJQj79a4jQ"
      }
    },
    {
      "cell_type": "code",
      "source": [
        "# Building the model\n",
        "def create_model():  #copy-pasted the BERT layers from the BERT documentation\n",
        "  input_word_ids = tf.keras.layers.Input(shape=(max_seq_length,), dtype=tf.int32,\n",
        "                                      name=\"input_word_ids\")\n",
        "  input_mask = tf.keras.layers.Input(shape=(max_seq_length,), dtype=tf.int32,\n",
        "                                  name=\"input_mask\")\n",
        "  input_type_ids = tf.keras.layers.Input(shape=(max_seq_length,), dtype=tf.int32,\n",
        "                                  name=\"input_type_ids\")\n",
        "\n",
        "  pooled_output, sequence_output = bert_layer([input_word_ids, input_mask, input_type_ids])\n",
        "\n",
        "#add a dropout layer to minimize overfitting on the training set\n",
        "  drop = tf.keras.layers.Dropout(0.5)(pooled_output) ##originally 0.4\n",
        "  output = tf.keras.layers.Dense(1, activation=\"sigmoid\", kernel_regularizer=tf.keras.regularizers.l2(0.01), name=\"output\")(drop) #binary classification ##added L2 regularization\n",
        "\n",
        "  model = tf.keras.Model(\n",
        "    inputs={\n",
        "        'input_word_ids': input_word_ids,\n",
        "        'input_mask': input_mask,\n",
        "        'input_type_ids': input_type_ids\n",
        "    },\n",
        "    outputs=output)\n",
        "  return model"
      ],
      "metadata": {
        "id": "vjKHfOMhq0y7"
      },
      "execution_count": 33,
      "outputs": []
    },
    {
      "cell_type": "code",
      "source": [
        "model = create_model()\n",
        "\n",
        "#AdamW optimizer with weight decay\n",
        "optimizer = tf.keras.optimizers.AdamW(learning_rate=1e-5, weight_decay=0.01) #originally 2e-5 #decreased to allow the model to learn more slowly\n",
        "\n",
        "model.compile(optimizer=optimizer,\n",
        "              loss=tf.keras.losses.BinaryCrossentropy(),\n",
        "              metrics=[tf.keras.metrics.BinaryAccuracy()])\n",
        "\n",
        "#Early stopping callback\n",
        "early_stopping = EarlyStopping(monitor='val_loss', patience=2, restore_best_weights=True)\n",
        "\n",
        "epochs = 1 ## originally 4\n",
        "history = model.fit(train_data,\n",
        "                    validation_data=valid_data,\n",
        "                    epochs=epochs,\n",
        "                    callbacks=[early_stopping],\n",
        "                    verbose=1)"
      ],
      "metadata": {
        "colab": {
          "base_uri": "https://localhost:8080/"
        },
        "id": "myWYuk5hq5gp",
        "outputId": "02adbf15-f950-4d23-ecac-e439e68a5ee9"
      },
      "execution_count": 34,
      "outputs": [
        {
          "output_type": "stream",
          "name": "stdout",
          "text": [
            "306/306 [==============================] - 300s 848ms/step - loss: 0.1503 - binary_accuracy: 0.9512 - val_loss: 0.1451 - val_binary_accuracy: 0.9552\n"
          ]
        }
      ]
    },
    {
      "cell_type": "code",
      "source": [
        "sample_example = [\"What is your email address?\",\n",
        "                  \"Are you ashamed of being an Asain?\",\n",
        "                  \"I love animals! How about you?\",\n",
        "                  \"Does AI engineering have a good future?\",\n",
        "                  \"What's your name?\",\n",
        "                  \"Can a job interviewer be racist?\"]\n",
        "test_data = tf.data.Dataset.from_tensor_slices((sample_example, [0]*len(sample_example)))\n",
        "test_data = (test_data.map(to_feature_map).batch(1))\n",
        "preds = model.predict(test_data)"
      ],
      "metadata": {
        "colab": {
          "base_uri": "https://localhost:8080/"
        },
        "id": "tTijR4QXrKlR",
        "outputId": "5d8dc356-71bf-4a84-a1ee-266920c9946d"
      },
      "execution_count": 37,
      "outputs": [
        {
          "output_type": "stream",
          "name": "stdout",
          "text": [
            "6/6 [==============================] - 1s 26ms/step\n"
          ]
        }
      ]
    },
    {
      "cell_type": "code",
      "source": [
        "threshold = 0.5 #between 0 and 1\n",
        "['Toxic' if pred >=threshold else 'Sincere' for pred in preds]"
      ],
      "metadata": {
        "colab": {
          "base_uri": "https://localhost:8080/"
        },
        "id": "cgOocpverMg8",
        "outputId": "6e21a1e9-9860-4bd8-998e-01b8ec0bd6af"
      },
      "execution_count": 38,
      "outputs": [
        {
          "output_type": "execute_result",
          "data": {
            "text/plain": [
              "['Sincere', 'Sincere', 'Sincere', 'Sincere', 'Sincere', 'Sincere']"
            ]
          },
          "metadata": {},
          "execution_count": 38
        }
      ]
    },
    {
      "cell_type": "code",
      "source": [
        "threshold = 0.015 #between 0 and 1 # a lower threshold captures the nuances of toxicity much better!!\n",
        "['Toxic' if pred >=threshold else 'Sincere' for pred in preds]"
      ],
      "metadata": {
        "colab": {
          "base_uri": "https://localhost:8080/"
        },
        "id": "uaxpw2Zssqbb",
        "outputId": "7eea0b2c-e960-4e5c-dcde-a6ca74be1fab"
      },
      "execution_count": 53,
      "outputs": [
        {
          "output_type": "execute_result",
          "data": {
            "text/plain": [
              "['Sincere', 'Toxic', 'Sincere', 'Sincere', 'Sincere', 'Toxic']"
            ]
          },
          "metadata": {},
          "execution_count": 53
        }
      ]
    },
    {
      "cell_type": "code",
      "source": [
        "sample_example = [\"Do you hate Trump?\",\n",
        "                  \"Are you ashamed of being Taiwanese?\",\n",
        "                  \"Why don't you get married?\",\n",
        "                  \"Do you like to play basketball?\",\n",
        "                  \"Let's discuss about your previous jobs, ok?\",\n",
        "                  \"How many moons does Jupiter have?\"]\n",
        "test_data = tf.data.Dataset.from_tensor_slices((sample_example, [0]*len(sample_example)))\n",
        "test_data = (test_data.map(to_feature_map).batch(1))\n",
        "preds = model.predict(test_data)"
      ],
      "metadata": {
        "colab": {
          "base_uri": "https://localhost:8080/"
        },
        "id": "Gp6G5HDMuLri",
        "outputId": "13778de1-cb8c-49ad-da36-d83f04c6601b"
      },
      "execution_count": 54,
      "outputs": [
        {
          "output_type": "stream",
          "name": "stdout",
          "text": [
            "6/6 [==============================] - 0s 24ms/step\n"
          ]
        }
      ]
    },
    {
      "cell_type": "code",
      "source": [
        "threshold = 0.015\n",
        "['Toxic' if pred >=threshold else 'Sincere' for pred in preds]"
      ],
      "metadata": {
        "colab": {
          "base_uri": "https://localhost:8080/"
        },
        "id": "hxizL9yjuMan",
        "outputId": "6e496433-f040-40ea-c6e5-6484d3324053"
      },
      "execution_count": 55,
      "outputs": [
        {
          "output_type": "execute_result",
          "data": {
            "text/plain": [
              "['Toxic', 'Toxic', 'Toxic', 'Sincere', 'Sincere', 'Sincere']"
            ]
          },
          "metadata": {},
          "execution_count": 55
        }
      ]
    },
    {
      "cell_type": "code",
      "source": [
        "sample_example = [\"May I help you?\",\n",
        "                  \"What would you like to drink?\",\n",
        "                  \"How can I travel from Sttugart to Paris?\",\n",
        "                  \"Aren't old women disgusting?\",\n",
        "                  \"Why can women be paid equally as men are?\",\n",
        "                  \"Who don't like chocolates?\"]\n",
        "test_data = tf.data.Dataset.from_tensor_slices((sample_example, [0]*len(sample_example)))\n",
        "test_data = (test_data.map(to_feature_map).batch(1))\n",
        "preds = model.predict(test_data)"
      ],
      "metadata": {
        "colab": {
          "base_uri": "https://localhost:8080/"
        },
        "id": "fY5Ni8MQvHRe",
        "outputId": "5d9f034c-62de-424d-9de1-073a5885d64f"
      },
      "execution_count": 56,
      "outputs": [
        {
          "output_type": "stream",
          "name": "stdout",
          "text": [
            "6/6 [==============================] - 0s 23ms/step\n"
          ]
        }
      ]
    },
    {
      "cell_type": "code",
      "source": [
        "threshold = 0.015\n",
        "['Toxic' if pred >=threshold else 'Sincere' for pred in preds]"
      ],
      "metadata": {
        "colab": {
          "base_uri": "https://localhost:8080/"
        },
        "id": "2whzFrAZvI0K",
        "outputId": "9db9726b-9c79-4586-cbaf-c8c1588331db"
      },
      "execution_count": 57,
      "outputs": [
        {
          "output_type": "execute_result",
          "data": {
            "text/plain": [
              "['Sincere', 'Sincere', 'Sincere', 'Toxic', 'Toxic', 'Sincere']"
            ]
          },
          "metadata": {},
          "execution_count": 57
        }
      ]
    },
    {
      "cell_type": "code",
      "source": [
        "sample_example = [\"Don't you dislike AI?\",\n",
        "                  \"How can you not like Trump?\",\n",
        "                  \"Isn't Biden too old for president election?\",\n",
        "                  \"Aren't old women disgusting?\",\n",
        "                  \"Why can women be paid equally as men are?\",\n",
        "                  \"Who don't like chocolates?\"]\n",
        "test_data = tf.data.Dataset.from_tensor_slices((sample_example, [0]*len(sample_example)))\n",
        "test_data = (test_data.map(to_feature_map).batch(1))\n",
        "preds = model.predict(test_data)"
      ],
      "metadata": {
        "colab": {
          "base_uri": "https://localhost:8080/"
        },
        "id": "xaAkJ3UExda4",
        "outputId": "6982c8bf-2f61-4dd7-8a36-11c9f8371a0b"
      },
      "execution_count": 58,
      "outputs": [
        {
          "output_type": "stream",
          "name": "stdout",
          "text": [
            "6/6 [==============================] - 0s 22ms/step\n"
          ]
        }
      ]
    },
    {
      "cell_type": "code",
      "source": [
        "threshold = 0.015\n",
        "['Toxic' if pred >=threshold else 'Sincere' for pred in preds]"
      ],
      "metadata": {
        "colab": {
          "base_uri": "https://localhost:8080/"
        },
        "id": "XTrEAXhCxeiA",
        "outputId": "111807b3-59ee-44b3-d31c-cc521b801d40"
      },
      "execution_count": 59,
      "outputs": [
        {
          "output_type": "execute_result",
          "data": {
            "text/plain": [
              "['Toxic', 'Toxic', 'Toxic', 'Toxic', 'Toxic', 'Sincere']"
            ]
          },
          "metadata": {},
          "execution_count": 59
        }
      ]
    },
    {
      "cell_type": "markdown",
      "source": [
        "## Yay, huge success!\n",
        "- loss: 0.1503   - binary_accuracy: 0.9512\n",
        "- val_loss: 0.1451 - val_binary_accuracy: 0.9552\n",
        "\n",
        "1. dropout rate lowered from 0.5 to 0.4, i.e., drop = tf.keras.layers.Dropout(0.5)(pooled_output)\n",
        "\n",
        "2. added an AdamW optimizer with weight decay, i.e., optimizer = tf.keras.optimizers.AdamW(learning_rate=1e-5, weight_decay=0.01)\n",
        "\n",
        "3. learning rate lowered from 2e-5 to 1e-5\n",
        "\n",
        "4. epochs lowered from 4 to 1\n",
        "\n",
        "5. prediction threshold lowered from 0.5 to 0.015\n"
      ],
      "metadata": {
        "id": "J1_KonZlrTKQ"
      }
    }
  ],
  "metadata": {
    "accelerator": "GPU",
    "colab": {
      "provenance": [],
      "gpuType": "T4"
    },
    "kernelspec": {
      "display_name": "Python 3",
      "name": "python3"
    }
  },
  "nbformat": 4,
  "nbformat_minor": 0
}